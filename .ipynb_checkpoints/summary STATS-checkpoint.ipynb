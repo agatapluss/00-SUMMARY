{
 "cells": [
  {
   "cell_type": "code",
   "execution_count": 6,
   "id": "a4042b40",
   "metadata": {},
   "outputs": [],
   "source": [
    "import pandas as pd\n",
    "import numpy as np\n",
    "import seaborn as sns\n",
    "import matplotlib.pyplot as plt"
   ]
  },
  {
   "cell_type": "markdown",
   "id": "e97142ac",
   "metadata": {},
   "source": [
    "# Доверительный интервал"
   ]
  },
  {
   "cell_type": "markdown",
   "id": "6a28bf7f",
   "metadata": {},
   "source": [
    "# Параметрические тесты"
   ]
  },
  {
   "cell_type": "markdown",
   "id": "b101dd54",
   "metadata": {},
   "source": [
    "## Одновыборочные тесты\n",
    "Одновыборочные - сравниваем с известным параметром\n",
    "* __Например:__ Проверям, что монета честная с вероятность $p_0 = 0.5$  "
   ]
  },
  {
   "cell_type": "markdown",
   "id": "f1316a82",
   "metadata": {},
   "source": [
    "### Сравнение долей : биномиальный критерий"
   ]
  },
  {
   "cell_type": "markdown",
   "id": "a3bbd31d",
   "metadata": {},
   "source": [
    "* Выборка : $X_1, .. X_N ~ Ber(p)$\n",
    "* $H_0 : p = p_0$ Есть Нулевая гипотеза, что вероятность из нашего Распредления Бернули ровна НЕКОТОРОЙ КОНСТАНТЕ\n",
    "* $H_1 : p != p_0$ Альтернативная гипотеза, что вероятность из нашего Распредления Бернули НЕ РОВНА некоторой константе\n",
    "* Статистика $T_N$       - количество раз успеха\n",
    "$T_N = \\sum_{i=1}^{N}X_i$\n",
    "* Нулевое распределение : $T_N ~ Bin (N, p_0)$"
   ]
  },
  {
   "cell_type": "code",
   "execution_count": null,
   "id": "713ffee9",
   "metadata": {},
   "outputs": [],
   "source": [
    "from scipy.stats import binom_test\n",
    "\n",
    "\n",
    "N_pos = 37 # кол-во УСПЕХА\n",
    "N = 100 # размер выборки\n",
    "\n",
    "answer = binom_test(x = N_pos, n = N , p=0.5, alternative='two-sided')\n",
    "\n",
    "print(f'Значене p-value : {round(answer, 3)}')\n",
    "\n",
    "#  alternative='two-sided'  -  двусторонняя гипотеза"
   ]
  },
  {
   "cell_type": "markdown",
   "id": "cb481013",
   "metadata": {},
   "source": [
    "* $p-value < 0.05$  \n",
    "\n",
    "* Mожем отклонить $H_0$ : \n",
    "* Вероятность нашего распределения не равна заданному $p_0 = 0.5$\n"
   ]
  },
  {
   "cell_type": "code",
   "execution_count": null,
   "id": "3d29fd29",
   "metadata": {},
   "outputs": [],
   "source": [
    "# Вообще можно было использовать Доверительные интервалы\n",
    "\n",
    "from statsmodels.stats.proportion import proportion_confint\n",
    "\n",
    "proportion_confint(count = N_pos,\n",
    "                  nobs = N,\n",
    "                  alpha=0.05,\n",
    "                  method='normal')\n"
   ]
  },
  {
   "cell_type": "markdown",
   "id": "cea6b239",
   "metadata": {},
   "source": [
    "* Доверительный интервал перестал покрывть значение $p_0 = 0.5$"
   ]
  },
  {
   "cell_type": "markdown",
   "id": "0db46564",
   "metadata": {},
   "source": [
    "### Сравнение долей : z -критерий\n"
   ]
  },
  {
   "cell_type": "markdown",
   "id": "4eba406e",
   "metadata": {},
   "source": [
    "Как мы уже говорили: биномальное распределение стремится к нормальному распределению по центральной предельной теореме.\n",
    "\n",
    "Соответственно, для выборки, распределенной по Бернулии, можем посчитать некоторую статистику, которая будет распределена нормально. Такая статистика называется z-критерий.\n",
    "\n",
    "* Выборка: $X_{1}, …, X_{N} ∼ Ber(p)$\n",
    "\n",
    "* Нулевая гипотеза $H_0$: $p = p_{0}$\n",
    "\n",
    "* Альтернативная гипотеза $H_1$: $p ≠ p_{0}$\n",
    "\n",
    "* Статистика z-критерий $Z_{N}$"
   ]
  },
  {
   "cell_type": "markdown",
   "id": "65df4bd8",
   "metadata": {},
   "source": [
    "$Z_n = \\dfrac{\\overline{p}-p_0}{\\sqrt{\\dfrac{p_0(1-p_0)}{N}}}$"
   ]
  },
  {
   "cell_type": "markdown",
   "id": "fa257b1d",
   "metadata": {},
   "source": [
    "* Нулевое распределение   $Z_{N}$ ~ $N(1, 0) $"
   ]
  },
  {
   "cell_type": "code",
   "execution_count": null,
   "id": "13fae9a3",
   "metadata": {},
   "outputs": [],
   "source": [
    "# from scipy.stats import norm"
   ]
  },
  {
   "cell_type": "code",
   "execution_count": null,
   "id": "e652f721",
   "metadata": {},
   "outputs": [],
   "source": [
    "from statsmodels.stats.proportion import proportions_ztest"
   ]
  },
  {
   "cell_type": "code",
   "execution_count": null,
   "id": "c519685a",
   "metadata": {},
   "outputs": [],
   "source": [
    "N_pos = 37 # кол-во УСПЕХА\n",
    "N = 100 # размер выборки\n",
    "p0 = 0.5 # константное значение, с которым мы сравниваем нашу вероятность p\n",
    "\n",
    "zstat, p_value = proportions_ztest(count=N_pos,\n",
    "                 nobs=N,\n",
    "                 value=p0,\n",
    "                 alternative='two-sided')\n",
    "\n",
    "print(f'z-критерий : {round(zstat, 3)}') # если zstat > 0, то новый алгоритм хуже первого, если zstat < 0, то новый алгоритм лучше первого,\n",
    "print(f'p-value : {round(p_value, 3)}')"
   ]
  },
  {
   "cell_type": "markdown",
   "id": "0fe9a68f",
   "metadata": {},
   "source": [
    "### Сравнение средних : z -критерий (редко)\n",
    "\n",
    "*__!!!! Нужно знать дисперию__*"
   ]
  },
  {
   "cell_type": "markdown",
   "id": "aaaa0cba",
   "metadata": {},
   "source": [
    "* Выборка: $X_{1}, …, X_{N} ∼ N(\\mu, \\sigma$ $\\sigma$ - __известна__ - Выборка из нормального распределения с известной дисперсией\n",
    "\n",
    "* Нулевая гипотеза $H_0$: $\\mu = \\mu_{0}$  - проверяем, что среднее равно заданному числу\n",
    "\n",
    "* Альтернативная гипотеза $H_1$: $\\mu ≠ \\mu_{0}$\n",
    "\n",
    "* Статистика z-критерий $Z_{N}$ - выглядит как нормировка нашего выборочного среднего"
   ]
  },
  {
   "cell_type": "markdown",
   "id": "1ddcd39a",
   "metadata": {},
   "source": [
    "$Z_n = \\dfrac{\\overline{x}-\\mu_0}{\\sqrt{\\dfrac{\\sigma}{\\sqrt{N}}}}$"
   ]
  },
  {
   "cell_type": "markdown",
   "id": "87218c4b",
   "metadata": {},
   "source": [
    "* Нулевое распределение   $Z_{N}$ ~ $N(1, 0) $"
   ]
  },
  {
   "cell_type": "markdown",
   "id": "e0ca70b8",
   "metadata": {},
   "source": [
    "### Сравнение средних : t -критерий \n",
    "\n",
    "*___Если дисперсия ГС не известнаю Мы оцениваем её по выборке, то среднее распределено не нормально, а по Стьюденту___*"
   ]
  },
  {
   "cell_type": "markdown",
   "id": "a7ff48e8",
   "metadata": {},
   "source": [
    "* Выборка: $X_{1}, …, X_{N}$ ∼ $N(\\mu, \\sigma)$ $\\sigma$ - не известна \n",
    "\n",
    "* Нулевая гипотеза $H_0$: $\\mu = \\mu_{0}$  - проверяем, что среднее равно заданному числу\n",
    "\n",
    "* Альтернативная гипотеза $H_1$: $\\mu ≠ \\mu_{0}$\n",
    "\n",
    "* Статистика t-критерий $T_{N}$ - "
   ]
  },
  {
   "cell_type": "markdown",
   "id": "f5a0c995",
   "metadata": {},
   "source": [
    "$T_n = \\dfrac{\\overline{x}-\\mu_0}{\\sqrt{\\dfrac{S}{\\sqrt{N}}}}$"
   ]
  },
  {
   "cell_type": "markdown",
   "id": "1ea486dd",
   "metadata": {},
   "source": [
    "* Нулевое распределение   $T_{N}$ ~ $St(N-1) $"
   ]
  },
  {
   "cell_type": "markdown",
   "id": "c3e10dd8",
   "metadata": {},
   "source": [
    "$N$ - количество наблюдений в выборке; \n",
    "$S$ - дисперсия по выборке"
   ]
  },
  {
   "cell_type": "code",
   "execution_count": null,
   "id": "c2792b95",
   "metadata": {},
   "outputs": [],
   "source": [
    "data = np.random.normal(loc=168, scale=10, size=100)\n",
    "\n",
    "print('среднее', np.mean(data))"
   ]
  },
  {
   "cell_type": "code",
   "execution_count": null,
   "id": "e7cc6ec7",
   "metadata": {},
   "outputs": [],
   "source": [
    "from scipy.stats import ttest_1samp\n",
    "\n",
    "ttest_1samp(a=data, # наша выборка\n",
    "           popmean=170, # то значение с которым мы его сравниваем\n",
    "           alternative='two-sided') # альтернатива - в нашем случае двустторонняя"
   ]
  },
  {
   "cell_type": "markdown",
   "id": "c54e27a0",
   "metadata": {},
   "source": [
    "## Двувыборочные критерии\n",
    "* Двувыборочные  - сравниваем две выборки между собой\n",
    "       * Независимые выборки  - в выборках разные объекты.\n",
    "       * Связанные выборки  - два замера на одних и тех же объектах.  "
   ]
  },
  {
   "cell_type": "markdown",
   "id": "69325b2e",
   "metadata": {},
   "source": [
    "### Двувыборочные : Несвязанные выборки"
   ]
  },
  {
   "cell_type": "markdown",
   "id": "87529bc3",
   "metadata": {},
   "source": [
    "#### Сравнение долей : Z-критерий\n",
    "\n",
    "* Придумали новый алгоритм рекомендаций \n",
    "* Люди могут КУПИТЬ рекомендованный товар или НЕ КУПИТЬ\n",
    "* Хотим проверить лучше ли новый алгоритм ?\n",
    "* У 50% пользователей будет крутиться старый алгоритм, у других 50% пользователей - НОВАЯ ВЕРСИЯ алгоритма\n",
    " "
   ]
  },
  {
   "cell_type": "markdown",
   "id": "5da225a8",
   "metadata": {},
   "source": [
    "* Выборки : $X_1 $ ~ $Ber(p_1)$ и $X_2 $ ~ $Ber(p_2)$ - У нас есть две выборки и каждая с распределением Бернули, но каждая со своей вероятностью $p_1$ и $p_2$\n",
    "\n",
    "* $H_0: p_1 = p_2$\n",
    "* $H_1: p_1 != p_2$\n",
    "* Статистика $Z_N$"
   ]
  },
  {
   "cell_type": "markdown",
   "id": "16646864",
   "metadata": {},
   "source": [
    "$Z_N = \\dfrac {\\overline{p_1}-\\overline{p_2}}{\\sqrt{P(1-P)(\\dfrac{1}{n_1}+\\dfrac{1}{n_2})}}$\n",
    ", где\n",
    "$P=\\dfrac{\\overline{p_1}*n_1 + \\overline{p_2}*n_2}{n_1+n_2}$"
   ]
  },
  {
   "cell_type": "markdown",
   "id": "d2774423",
   "metadata": {},
   "source": [
    "$n_1, n_2$ - размеры выборок соответственно"
   ]
  },
  {
   "cell_type": "markdown",
   "id": "27d3b2f4",
   "metadata": {},
   "source": [
    "* Нулевое распределение: $Z_n$ ~ $N(0, 1)$"
   ]
  },
  {
   "cell_type": "code",
   "execution_count": null,
   "id": "2cac2a80",
   "metadata": {},
   "outputs": [],
   "source": [
    "# Размеры выборок :\n",
    "\n",
    "N1 = 200 # Размер первой выборки\n",
    "N2 = 205 # Размер второй выборки\n",
    "\n",
    "\n",
    "# Количество купивших пользователей по выборкам\n",
    "\n",
    "N1_pos = 110 # Количество пользователей из 1 выборки купивших по рекомендации\n",
    "N2_pos = 120 # Количество пользователей из 2 выборки купивших по рекомендации"
   ]
  },
  {
   "cell_type": "code",
   "execution_count": null,
   "id": "85c8c90e",
   "metadata": {},
   "outputs": [],
   "source": [
    "#  Импортируем необходимую бибилиотеку\n",
    "\n",
    "from statsmodels.stats.proportion import proportions_ztest"
   ]
  },
  {
   "cell_type": "code",
   "execution_count": null,
   "id": "2fa72b8b",
   "metadata": {},
   "outputs": [],
   "source": [
    "zstat, p_value = proportions_ztest(count= [N1_pos, N2_pos], nobs = [N1, N2], alternative = 'two-sided')\n",
    "\n",
    "print(f'z-критерий : {round(zstat, 3)}') # если zstat > 0, то новый алгоритм хуже первого, если zstat < 0, то новый алгоритм лучше первого,\n",
    "print(f'p_value : {round(p_value, 3)}')"
   ]
  },
  {
   "cell_type": "markdown",
   "id": "43a06b38",
   "metadata": {},
   "source": [
    "* $p-value > 0.05$  \n",
    "\n",
    "* Не можем отклонить $H_0$ : \n",
    "* Статистические выборки не отличаются. \n",
    "* Новый алгоритм не лучше старого"
   ]
  },
  {
   "cell_type": "markdown",
   "id": "2620bd16",
   "metadata": {},
   "source": [
    "#### Сравнение средних : t-критерий"
   ]
  },
  {
   "cell_type": "code",
   "execution_count": null,
   "id": "35d534cb",
   "metadata": {},
   "outputs": [],
   "source": [
    "# Рассчитайте T-критерий для средних значений двух независимых \n",
    "# выборок оценок.\n",
    "\n",
    "# Это проверка нулевой гипотезы о том, что две независимые \n",
    "# выборки имеют одинаковые средние (ожидаемые) значения. \n",
    "# Этот тест предполагает, что популяции по умолчанию имеют \n",
    "# одинаковые дисперсии.\n",
    "\n",
    "from scipy.stats import ttest_ind"
   ]
  },
  {
   "cell_type": "markdown",
   "id": "37d067bf",
   "metadata": {},
   "source": [
    "* Выборки : $X_1 $ ~ $N(\\mu_1,\\sigma_1)$ и $X_2 $ ~ $N(\\mu_2,\\sigma_2)$ - $\\sigma_1$ и $\\sigma_2$ - __не известны__\n",
    "\n",
    "* $H_0: \\mu_1 = \\mu_2$\n",
    "* $H_1: \\mu_1 != \\mu_2$\n",
    "* Статистика $T_N$"
   ]
  },
  {
   "cell_type": "markdown",
   "id": "bb0ee18f",
   "metadata": {},
   "source": [
    "$T_N = \\dfrac {\\overline{x_1}-\\overline{x_2}}{\\sqrt{(\\dfrac{S_1^2}{n_1}+\\dfrac{S_1^2}{n_2})}}$\n"
   ]
  },
  {
   "cell_type": "markdown",
   "id": "e7b2cf68",
   "metadata": {},
   "source": [
    "* Нулевое распределение: $T_n$ ~ $St(v)$, где $v$ -степень свободы"
   ]
  },
  {
   "cell_type": "code",
   "execution_count": null,
   "id": "c136ddef",
   "metadata": {},
   "outputs": [],
   "source": [
    "df = pd.read_csv('https://www.kaggle.com/datasets/anderas/car-consume?select=measurements.csv')"
   ]
  },
  {
   "cell_type": "markdown",
   "id": "f83fcb16",
   "metadata": {},
   "source": [
    "### Двувыборочные : Связанные выборки"
   ]
  },
  {
   "cell_type": "markdown",
   "id": "14fd48c6",
   "metadata": {},
   "source": [
    "#### Сравнение долей : z-критерий\n",
    "\n",
    "* Сравниваем одну целевую группу пользоваелей: ДО события и ПОСЛЕ\n",
    "* Например, как голосуют избиратели за кандидатов до дебатов и после\n",
    "* Используем Z-критерий для связанных выборок"
   ]
  },
  {
   "cell_type": "markdown",
   "id": "fc65d9fc",
   "metadata": {},
   "source": []
  },
  {
   "cell_type": "markdown",
   "id": "8d45f595",
   "metadata": {},
   "source": [
    "#### Сравнение долей : биномиальный критерий"
   ]
  },
  {
   "cell_type": "markdown",
   "id": "3b31d7b9",
   "metadata": {},
   "source": [
    "#### Сравнение средних : z -критерий\n",
    "\n",
    "*__!!!! Нужно знать дисперию__*"
   ]
  },
  {
   "cell_type": "code",
   "execution_count": null,
   "id": "a5794dcc",
   "metadata": {},
   "outputs": [],
   "source": [
    "#  "
   ]
  },
  {
   "cell_type": "markdown",
   "id": "5b036ee8",
   "metadata": {},
   "source": [
    "# Непараметрические тесты"
   ]
  },
  {
   "cell_type": "code",
   "execution_count": null,
   "id": "5cc2e26d",
   "metadata": {},
   "outputs": [],
   "source": []
  },
  {
   "cell_type": "markdown",
   "id": "2a05093a",
   "metadata": {},
   "source": [
    "## Критерий знаков"
   ]
  },
  {
   "cell_type": "code",
   "execution_count": null,
   "id": "ea4fc112",
   "metadata": {},
   "outputs": [],
   "source": [
    "from statsmodels.stats.descriptivestats import sign_test"
   ]
  },
  {
   "cell_type": "markdown",
   "id": "488310d6",
   "metadata": {},
   "source": [
    "### Одновыборочный"
   ]
  },
  {
   "cell_type": "markdown",
   "id": "7d330be5",
   "metadata": {},
   "source": [
    "### Двувыборочный : связанные выборки"
   ]
  },
  {
   "cell_type": "code",
   "execution_count": null,
   "id": "2c8b6c74",
   "metadata": {},
   "outputs": [],
   "source": []
  },
  {
   "cell_type": "markdown",
   "id": "f2c00e4c",
   "metadata": {},
   "source": [
    "## Критерий рангов"
   ]
  },
  {
   "cell_type": "code",
   "execution_count": null,
   "id": "b9fcbe6f",
   "metadata": {},
   "outputs": [],
   "source": [
    "# высчитать ранг можно только к  пандавской серии\n",
    "pd.Series([7, 1, 5, 1, 3, 2, 5]).rank()"
   ]
  },
  {
   "cell_type": "code",
   "execution_count": null,
   "id": "c07ad3c1",
   "metadata": {},
   "outputs": [],
   "source": []
  },
  {
   "cell_type": "markdown",
   "id": "fd3b07b4",
   "metadata": {},
   "source": [
    "## Критерий Манна-Уитни-Уилкоксона"
   ]
  },
  {
   "cell_type": "code",
   "execution_count": null,
   "id": "cafd6fb5",
   "metadata": {},
   "outputs": [],
   "source": [
    "from scipy.stats import mannwhitneyu"
   ]
  },
  {
   "cell_type": "markdown",
   "id": "f5e85490",
   "metadata": {},
   "source": [
    "- Если выборки достаточно большие $N_1 , N_2 > 10$, то табличное распределение становится похожим на нормальное:\n",
    "$R_N ∼ ℕ (\\frac{N_1(N_1 + N_2 + 1)}{2} , \\frac{N_1 N_2(N1 + N2 + 1)}{12} )$"
   ]
  },
  {
   "cell_type": "code",
   "execution_count": null,
   "id": "5b0002e2",
   "metadata": {},
   "outputs": [],
   "source": [
    "N1 = 20 # Размер Выборки 1\n",
    "N2 = 25 # Размер Выборки 2"
   ]
  },
  {
   "cell_type": "code",
   "execution_count": null,
   "id": "fbdbd843",
   "metadata": {},
   "outputs": [],
   "source": [
    "# Практический пример\n",
    "\n",
    "from scipy.stats import norm # по замечанию большоего размера выборки - аппроксимация нормального распределения\n",
    "\n"
   ]
  },
  {
   "cell_type": "markdown",
   "id": "e6e32712",
   "metadata": {},
   "source": [
    "# А/А тестирование"
   ]
  },
  {
   "cell_type": "markdown",
   "id": "19f10abb",
   "metadata": {},
   "source": [
    "Пример.\n",
    "- Пользователь заходит в стриминговый музыкальный сервис\n",
    " - В некоторых случаях они пользуются нашей подборкой новых песен\n",
    " - У каждого человека своя склонность к использованию ЭТОГО плейлиста\n",
    " - Хотим сравнить разные алгоритмы создания плейлиста\n",
    "*\n",
    "* Чтобы описать персональные предпочтения каждого из пользователей, мы хотим определить CTR каждого конктертного пользователя"
   ]
  },
  {
   "cell_type": "markdown",
   "id": "4dade4f0",
   "metadata": {},
   "source": [
    "$CTR = \\dfrac{количество\\spaceкликов}{количество\\spaceпоказов} * 100$"
   ]
  },
  {
   "cell_type": "code",
   "execution_count": null,
   "id": "98c371a5",
   "metadata": {},
   "outputs": [],
   "source": [
    "# Для этого нам будет полезно использовать бетта -распределение\n",
    "# Это такого распределение которое лежит на отрезке от 0 до 1\n",
    "# И хорошо описывает распределение CTR\n",
    "\n",
    "user_num = 1000 # количество пользователе\n",
    "\n",
    "mean_user_ctr = 0.2  # подобрали такое средне значение для CTR\n",
    "beta = 20\n",
    "alpha = mean_user_ctr*beta / (1-mean_user_ctr)\n",
    "\n",
    "user_ctr = np.random.beta(alpha, beta, size = user_num)"
   ]
  },
  {
   "cell_type": "code",
   "execution_count": null,
   "id": "275c6204",
   "metadata": {},
   "outputs": [],
   "source": [
    "sns.histplot(user_ctr,  color = 'pink')\n",
    "plt.xlabel('CTR пользователей')\n",
    "plt.show()"
   ]
  },
  {
   "cell_type": "code",
   "execution_count": null,
   "id": "a1d3e3d0",
   "metadata": {},
   "outputs": [],
   "source": [
    "# С другой стороны, каждый пользователь заходит в прложение\n",
    "# И делает это разное количество раз\n",
    "# Это скорее будет описыватся Лог-нормальным распределением\n",
    "# Это рспределение у когорого тяжёлы прявый хвост\n",
    "\n",
    "# С помощью него мы сможем сгенерировать сколько раз залодити в приложение наши пользователи\n",
    "\n",
    "view = np.random.lognormal(mean=1, sigma=1, size=user_num).astype(int)+1"
   ]
  },
  {
   "cell_type": "code",
   "execution_count": null,
   "id": "223bb3de",
   "metadata": {},
   "outputs": [],
   "source": [
    "sns.histplot(view, bins=25, color ='pink')\n",
    "plt.xlabel('Количество заходов в приложение')\n",
    "plt.show()"
   ]
  },
  {
   "cell_type": "code",
   "execution_count": null,
   "id": "c2b8446f",
   "metadata": {},
   "outputs": [],
   "source": [
    "# И для того чтобы получить метрику - сколько раз люди воспользовались нашим плейлистом\n",
    "# (кликнули и начали слушать)\n",
    "# Мы воспользуемся двумя сгенерированными выборками\n",
    "# И с помощью распределния биномиального сгенирируем количество кликов по нашему плейлисту\n",
    "\n",
    "clicks = np.random.binomial(view, user_ctr)\n",
    "clicks[3]"
   ]
  },
  {
   "cell_type": "code",
   "execution_count": null,
   "id": "a2c9ae49",
   "metadata": {},
   "outputs": [],
   "source": [
    "sns.histplot(clicks, bins=10)\n",
    "plt.xlabel('Количество кликов')\n",
    "plt.show()\n",
    "\n",
    "# Получим вот такую иллюстрацию\n",
    "# У большенства пользователь будет оконо нуля кликов\n",
    "# Это потому что у большенства пользователей всего один заход\n"
   ]
  },
  {
   "cell_type": "code",
   "execution_count": null,
   "id": "d5050780",
   "metadata": {},
   "outputs": [],
   "source": [
    "# И теперь для сгенирированных выборок собирём такую выборку,\n",
    "# где одним обектом будет одна сессия\n",
    "# И сессия будет заканчиваться НУЛЯМ - если пользователь не стал пользоваться нашим плейлистом\n",
    "# И ЕДИНИЦЕЙ -если стал\n",
    "\n",
    "sessions = []\n",
    "for v, c in zip(view, clicks):\n",
    "    sessions +=[1]*c +[0]*(v-c)"
   ]
  },
  {
   "cell_type": "code",
   "execution_count": null,
   "id": "fcbba1dd",
   "metadata": {},
   "outputs": [],
   "source": [
    "sessions[:10]"
   ]
  },
  {
   "cell_type": "code",
   "execution_count": null,
   "id": "eb2cffd9",
   "metadata": {},
   "outputs": [],
   "source": [
    "#  если мы посчитаем среднее по выборке, то толучим порядка 20%\n",
    "# как мы и генеририли пользователей с такой вероятностью, что 20%\n",
    "# предпочитают слушать наш плейлист\n",
    "\n",
    "np.mean(sessions)"
   ]
  },
  {
   "cell_type": "code",
   "execution_count": null,
   "id": "2dc9b96d",
   "metadata": {},
   "outputs": [],
   "source": [
    "len(sessions)"
   ]
  },
  {
   "cell_type": "code",
   "execution_count": null,
   "id": "b1c656e3",
   "metadata": {},
   "outputs": [],
   "source": [
    "#  Теперь собираем всё это вместе и эмитируем проведение A/B эксперемента\n",
    "\n",
    "# Мы итеративно будем генерить такие выборки шде будем генерить пользователей,\n",
    "# просмотри, их клики\n",
    "# Случайно разбивать их на группы\n",
    "# Затем подсчитывать наши выборки и подсчитывать на сколько они отличаютс между собой\n",
    "\n",
    "def get_pvalue():\n",
    "    user_ctr = np.random.beta(alpha, beta, size=user_num)\n",
    "    view = np.random.lognormal(mean=1,  sigm "
   ]
  },
  {
   "cell_type": "code",
   "execution_count": null,
   "id": "d2796404",
   "metadata": {},
   "outputs": [],
   "source": []
  },
  {
   "cell_type": "code",
   "execution_count": null,
   "id": "3db5fa46",
   "metadata": {},
   "outputs": [],
   "source": []
  },
  {
   "cell_type": "code",
   "execution_count": null,
   "id": "cea8fc5b",
   "metadata": {},
   "outputs": [],
   "source": []
  },
  {
   "cell_type": "code",
   "execution_count": null,
   "id": "5ffd68f7",
   "metadata": {},
   "outputs": [],
   "source": []
  },
  {
   "cell_type": "code",
   "execution_count": null,
   "id": "f7ea9070",
   "metadata": {},
   "outputs": [],
   "source": [
    "# Лучше использоватьНепараметрические методы, поскольку распределение clicks\n",
    "# далеко от нормального\n",
    "\n",
    "from scipy.stats import mannwhitneyu\n",
    "\n",
    "def get_pvalue():\n",
    "    user_ctr = np.random.beta(alpha, beta, size = user_num)\n",
    "    view = np.random.lognormal(mean=1, sigma=1, size=user_num).astype(int)+1\n",
    "    clicks = np.random.binomial(view, user_ctr)\n",
    "    \n",
    "    mask= np.random.rand(len(view))< 0.5\n",
    "    view_1, clicks_1 = view[mask], clicks[mask]\n",
    "    view_2, clicks_2 = view[~mask], clicks[~mask]\n",
    "    \n",
    "    return mannwhitneyu(clicks_1, clicks_2)[1]"
   ]
  },
  {
   "cell_type": "code",
   "execution_count": null,
   "id": "720b1f44",
   "metadata": {},
   "outputs": [],
   "source": [
    "# Повторим 10.000 раз и построим распределение p-value:\n",
    "\n",
    "\n",
    "pvalues = [get_pvalue() for _ in range(10000)]"
   ]
  },
  {
   "cell_type": "code",
   "execution_count": null,
   "id": "a86bb874",
   "metadata": {},
   "outputs": [],
   "source": [
    "sns.histplot(pvalues, color ='darkmagenta')\n",
    "plt.xlabel('p-values')\n",
    "plt.show()"
   ]
  },
  {
   "cell_type": "code",
   "execution_count": null,
   "id": "87b9ea68",
   "metadata": {},
   "outputs": [],
   "source": [
    "# Отчетливо видно, что p-value распределен равномерно, \n",
    "# а количество ложноположительных ответов будет равно 0.05\n",
    "# (как и было задумано).\n",
    "\n",
    "np.mean(np.array(pvalues)< 0.05)"
   ]
  },
  {
   "cell_type": "markdown",
   "id": "3175f32e",
   "metadata": {},
   "source": [
    "## Длительность эксперемента"
   ]
  },
  {
   "cell_type": "markdown",
   "id": "4ea1caf5",
   "metadata": {},
   "source": [
    "### Minimal detectable effect\n",
    "Minimal detectable effect — эффект метрик, который мы сможем детектировать для заданного уровня значимости и мощности. \n",
    "\n",
    "Определяется для конкретного статистического критерия (обычно в предположении вида распределения)."
   ]
  },
  {
   "cell_type": "code",
   "execution_count": 10,
   "id": "c3e3dac5",
   "metadata": {},
   "outputs": [],
   "source": [
    "# Например, распределение Стьюдента\n",
    "\n",
    "N = 10000     # Размер выборки\n",
    "sigma = 5    # Среднеквадратичное отклонение\n",
    "alpha = 0.05    # Заданный уровень значимости\n",
    "power= 0.8      #Мощность мы хотим получить 80%"
   ]
  },
  {
   "cell_type": "markdown",
   "id": "12a4624a",
   "metadata": {},
   "source": [
    "$\\delta = (t_{1-\\dfrac{\\alpha}{2}}+t_{\\beta})\\sigma\\sqrt{\\dfrac{2}{N}}$"
   ]
  },
  {
   "cell_type": "code",
   "execution_count": 13,
   "id": "42b41de3",
   "metadata": {},
   "outputs": [
    {
     "data": {
      "text/plain": [
       "0.1981213107344599"
      ]
     },
     "execution_count": 13,
     "metadata": {},
     "output_type": "execute_result"
    }
   ],
   "source": [
    "from scipy.stats import t\n",
    "\n",
    "def MDE_for_t(N, sigma, alpha, power):\n",
    "    S = (sigma* np.sqrt(2/N))\n",
    "    M = t(N-1).ppf(q=1-alpha/2) + t(N-1).ppf(q=power)\n",
    "    return M*S\n",
    "\n",
    "MDE_for_t(N, sigma, alpha, power)"
   ]
  },
  {
   "cell_type": "code",
   "execution_count": null,
   "id": "6b836735",
   "metadata": {},
   "outputs": [],
   "source": []
  },
  {
   "cell_type": "code",
   "execution_count": 27,
   "id": "c74ae44b",
   "metadata": {},
   "outputs": [
    {
     "data": {
      "image/png": "[encoded data removed]",
      "text/plain": [
       "<Figure size 432x288 with 1 Axes>"
      ]
     },
     "metadata": {
      "needs_background": "light"
     },
     "output_type": "display_data"
    }
   ],
   "source": [
    "N_array = np.arange(100, 10000, 1000)\n",
    "\n",
    "MDE_array = [MDE_for_t(n, sigma = 5, alpha=0.05, power =0.8) for n in N_array]\n",
    "\n",
    "\n",
    "sns.lineplot(x = N_array, y=MDE_array, color = 'pink')\n",
    "plt.title(f'sigma {sigma}, alpha {alpha}, power {power}')\n",
    "plt.xlabel('Размер выборки')\n",
    "plt.ylabel('Minimal detectable effect')\n",
    "plt.show()\n",
    "\n",
    "#  График зависимости Минимального детекриемого эффекта от размера выборки\n",
    "#  С ростом выборки MDE уменьшается, но нулевого эффекта достичь не получится\n"
   ]
  },
  {
   "cell_type": "markdown",
   "id": "172794bc",
   "metadata": {},
   "source": [
    "В обратную сторону можно по ожидаемому эффекту вычислить необходимый размер выборки:\n",
    "\n",
    "ДЛЯ КРИТЕРИЯ СТЬЮДЕНТА"
   ]
  },
  {
   "cell_type": "markdown",
   "id": "3cea6265",
   "metadata": {},
   "source": [
    "$N =2(t_{1-\\dfrac{\\alpha}{2}}+t_{\\beta})^{2}\\dfrac{\\sigma^2}{effect^2}$"
   ]
  },
  {
   "cell_type": "code",
   "execution_count": 51,
   "id": "c1484488",
   "metadata": {},
   "outputs": [],
   "source": [
    "def size_sample(N=100, alpha = 0.05, power = 0.9, variance = 10, effect = 0.5):\n",
    "    S = sigma/(effect**2)\n",
    "    M =  (t(N-1).ppf(q=1-alpha/2) + t(N-1).ppf(q=power))**2\n",
    "    return 2*M*S"
   ]
  },
  {
   "cell_type": "code",
   "execution_count": 53,
   "id": "1a57b99c",
   "metadata": {},
   "outputs": [
    {
     "data": {
      "text/plain": [
       "857.7243091245289"
      ]
     },
     "execution_count": 53,
     "metadata": {},
     "output_type": "execute_result"
    }
   ],
   "source": [
    "size_sample(N=100)"
   ]
  },
  {
   "cell_type": "markdown",
   "id": "94614521",
   "metadata": {},
   "source": [
    "### Симуляция эффекта через АА тест\n",
    "\n",
    "Также можно оценивать мощность на A/A тестах. \n",
    "\n",
    "Идея в том, что мы снова контролируем наши группы и  делаем на основе какие-то выводы\n",
    "\n",
    "Придется симулировать эффект — в жизни эффект может быть распределён иначе.\n",
    "\n",
    "И проверять как часто мы такой эффект действительно заметим.\n",
    "\n",
    "Теперь мы будем знать, что группы отличаются друг от друга.\n",
    "\n",
    "Теперь это будет скорее АВ, а АА.\n",
    "\n",
    "И построим график зависимости зависимости частоты, когда мы зафиксировали данный эффект от величины самого эффекта …. И сделать выводы о том какая мощность у нашего подхода."
   ]
  },
  {
   "cell_type": "markdown",
   "id": "b5281162",
   "metadata": {},
   "source": [
    "Пример.\n",
    "- Пользователь заходит в стриминговый музыкальный сервис\n",
    " - В некоторых случаях они пользуются нашей подборкой новых песен\n",
    " - У каждого человека своя склонность к использованию ЭТОГО плейлиста\n",
    " - Хотим сравнить разные алгоритмы создания плейлиста\n",
    "*\n",
    "* Чтобы описать персональные предпочтения каждого из пользователей, мы хотим определить CTR каждого конктертного пользователя"
   ]
  },
  {
   "cell_type": "markdown",
   "id": "82d2aa8d",
   "metadata": {},
   "source": [
    "$CTR = \\dfrac{количество\\spaceкликов}{количество\\spaceпоказов} * 100$"
   ]
  },
  {
   "cell_type": "code",
   "execution_count": 34,
   "id": "81de8139",
   "metadata": {},
   "outputs": [],
   "source": [
    "user_num = 1000 # количество пользователе\n",
    "\n",
    "mean_user_ctr = 0.2  # подобрали такое средне значение для CTR\n",
    "beta = 20"
   ]
  },
  {
   "cell_type": "code",
   "execution_count": 35,
   "id": "f73a35f4",
   "metadata": {},
   "outputs": [],
   "source": [
    "#  Отделим генерацию выборки в отдельную функцию, куда будем передавать величину самого эффекта\n",
    "\n",
    "def get_clicks(effect=0.01):\n",
    "    new_mean_user_ctr = mean_user_ctr + effect\n",
    "    alpha = new_mean_user_ctr*beta/(1-new_mean_user_ctr)\n",
    "    user_ctr = np.random.beta(alpha, beta, size=user_num)\n",
    "    views = np.random.lognormal(mean=1, sigma=1, size=user_num).astype(int)+1\n",
    "    return np.random.binomial(views, user_ctr)"
   ]
  },
  {
   "cell_type": "code",
   "execution_count": 36,
   "id": "87e362d1",
   "metadata": {},
   "outputs": [],
   "source": [
    "from scipy.stats import mannwhitneyu\n",
    "\n",
    "def get_pvalue(effect):\n",
    "    click_1 = get_clicks(effect=0)\n",
    "    click_2 = get_clicks(effect=effect)\n",
    "    \n",
    "    return mannwhitneyu(click_1, click_2)"
   ]
  },
  {
   "cell_type": "code",
   "execution_count": 37,
   "id": "6cddf3b4",
   "metadata": {},
   "outputs": [],
   "source": [
    "effects = np.arange(0, 0.07, 0.01)\n",
    "\n",
    "power = []\n",
    "\n",
    "for effect in effects:\n",
    "    pvalues = [get_pvalue(effect=effect) for _ in range(1000)]\n",
    "    power.append(np.mean(np.array(pvalues) < 0.05))"
   ]
  },
  {
   "cell_type": "code",
   "execution_count": 42,
   "id": "313cf9a2",
   "metadata": {},
   "outputs": [
    {
     "data": {
      "image/png": "[encoded data removed]",
      "text/plain": [
       "<Figure size 432x288 with 1 Axes>"
      ]
     },
     "metadata": {
      "needs_background": "light"
     },
     "output_type": "display_data"
    }
   ],
   "source": [
    "plt.plot(effects, power, 'o-')\n",
    "plt.xlabel('Величина эффекта')\n",
    "plt.ylabel('Мощность')\n",
    "plt.show()"
   ]
  },
  {
   "cell_type": "markdown",
   "id": "a1c5f974",
   "metadata": {},
   "source": [
    "__8 урок: 11 задача___\n",
    "\n",
    "А теперь давайте попробуем оценить мощность с помощью симуляций, похожих на A/A эксперименты.\n",
    "\n",
    "Предположим, что мы оцениваем, сколько времени пользователи проводят при изучении нашего рекламного предложения (сколько времени проходит от открытия до закрытия веб-страницы). До запуска эксперимента мы бы хотели понимать, какую мощность нам стоит ожидать, если мы будем запускать эксперимент на неделю.\n",
    "\n",
    "Для этого аналогично процедуре проверки системы экспериментирования в A/A экспериментах реализуйте функцию, где будете генерировать две выборки из нормального распределения (предполагаем, что время распределено нормально со средним в контрольной группе 200 секунд и среднеквадратичным отклонением 30) одинакового размера (у нас 1000 пользователей в неделю, мы разбиваем их на 2 группы).\n",
    "\n",
    "Повторите процедуру «эксперимента» 1000-10000 раз, оцените, в каком проценте случаев мы будем детектировать изменение в метрике, если в тестовой группе среднее будет равно 205 секунд. Это и будет мощностью в нашем эксперименте. В качестве статистического критерия используйте t-критерий Стьюдента, альтернатива двусторонняя, уровень значимости 0.05."
   ]
  },
  {
   "cell_type": "code",
   "execution_count": 54,
   "id": "d29eb9c7",
   "metadata": {},
   "outputs": [
    {
     "data": {
      "text/plain": [
       "0.7523"
      ]
     },
     "execution_count": 54,
     "metadata": {},
     "output_type": "execute_result"
    }
   ],
   "source": [
    "# Функция, генерирующая выборки\n",
    "\n",
    "def get_sample(effect =5):\n",
    "    sample_1 = np.random.normal(loc = 200, scale = 30, size = 500)\n",
    "    sample_2 = np.random.normal(loc = 200+ effect, scale = 30, size = 500) # Изменение во втророй выборке\n",
    "    return sample_1, sample_2\n",
    "    \n",
    "from scipy.stats import ttest_ind\n",
    "    \n",
    "def get_pvalue():\n",
    "    sample_1, sample_2 = get_sample()\n",
    "    \n",
    "    return ttest_ind(sample_1, sample_2,  alternative='two-sided')[1]\n",
    "\n",
    "pvalues=[get_pvalue() for _ in range(10000)]\n",
    "\n",
    "np.mean(np.array(pvalues) < 0.05)"
   ]
  },
  {
   "cell_type": "code",
   "execution_count": null,
   "id": "0c927d02",
   "metadata": {},
   "outputs": [],
   "source": []
  },
  {
   "cell_type": "code",
   "execution_count": null,
   "id": "56c9c879",
   "metadata": {},
   "outputs": [],
   "source": []
  },
  {
   "cell_type": "code",
   "execution_count": null,
   "id": "314be44d",
   "metadata": {},
   "outputs": [],
   "source": []
  },
  {
   "cell_type": "code",
   "execution_count": null,
   "id": "57f76747",
   "metadata": {},
   "outputs": [],
   "source": []
  },
  {
   "cell_type": "code",
   "execution_count": null,
   "id": "302abeea",
   "metadata": {},
   "outputs": [],
   "source": []
  },
  {
   "cell_type": "markdown",
   "id": "a4f07e1d",
   "metadata": {},
   "source": [
    "# A/B  тестирование"
   ]
  },
  {
   "cell_type": "code",
   "execution_count": null,
   "id": "ce462a79",
   "metadata": {},
   "outputs": [],
   "source": []
  },
  {
   "cell_type": "code",
   "execution_count": null,
   "id": "107d376b",
   "metadata": {},
   "outputs": [],
   "source": []
  },
  {
   "cell_type": "code",
   "execution_count": null,
   "id": "3b6e7420",
   "metadata": {},
   "outputs": [],
   "source": []
  },
  {
   "cell_type": "code",
   "execution_count": null,
   "id": "7977b428",
   "metadata": {},
   "outputs": [],
   "source": []
  },
  {
   "cell_type": "code",
   "execution_count": null,
   "id": "ec2049b8",
   "metadata": {},
   "outputs": [],
   "source": []
  },
  {
   "cell_type": "code",
   "execution_count": null,
   "id": "bb0e47c5",
   "metadata": {},
   "outputs": [],
   "source": []
  },
  {
   "cell_type": "code",
   "execution_count": null,
   "id": "adb98221",
   "metadata": {},
   "outputs": [],
   "source": []
  },
  {
   "cell_type": "code",
   "execution_count": null,
   "id": "13681698",
   "metadata": {},
   "outputs": [],
   "source": []
  },
  {
   "cell_type": "code",
   "execution_count": null,
   "id": "5e2bdbf0",
   "metadata": {},
   "outputs": [],
   "source": []
  },
  {
   "cell_type": "code",
   "execution_count": null,
   "id": "bd24efef",
   "metadata": {},
   "outputs": [],
   "source": []
  },
  {
   "cell_type": "code",
   "execution_count": null,
   "id": "10b15dda",
   "metadata": {},
   "outputs": [],
   "source": []
  },
  {
   "cell_type": "code",
   "execution_count": null,
   "id": "3120f768",
   "metadata": {},
   "outputs": [],
   "source": []
  },
  {
   "cell_type": "code",
   "execution_count": null,
   "id": "096ba314",
   "metadata": {},
   "outputs": [],
   "source": []
  },
  {
   "cell_type": "code",
   "execution_count": null,
   "id": "48d77b78",
   "metadata": {},
   "outputs": [],
   "source": []
  },
  {
   "cell_type": "code",
   "execution_count": null,
   "id": "d29bc85e",
   "metadata": {},
   "outputs": [],
   "source": []
  },
  {
   "cell_type": "code",
   "execution_count": null,
   "id": "a7c844d1",
   "metadata": {},
   "outputs": [],
   "source": []
  },
  {
   "cell_type": "code",
   "execution_count": null,
   "id": "7289d89d",
   "metadata": {},
   "outputs": [],
   "source": []
  },
  {
   "cell_type": "code",
   "execution_count": null,
   "id": "7e94a06d",
   "metadata": {},
   "outputs": [],
   "source": []
  },
  {
   "cell_type": "code",
   "execution_count": null,
   "id": "9fd456c3",
   "metadata": {},
   "outputs": [],
   "source": []
  },
  {
   "cell_type": "code",
   "execution_count": null,
   "id": "31d1f136",
   "metadata": {},
   "outputs": [],
   "source": []
  }
 ],
 "metadata": {
  "kernelspec": {
   "display_name": "Python 3 (ipykernel)",
   "language": "python",
   "name": "python3"
  },
  "language_info": {
   "codemirror_mode": {
    "name": "ipython",
    "version": 3
   },
   "file_extension": ".py",
   "mimetype": "text/x-python",
   "name": "python",
   "nbconvert_exporter": "python",
   "pygments_lexer": "ipython3",
   "version": "3.9.7"
  },
  "latex_envs": {
   "LaTeX_envs_menu_present": true,
   "autoclose": false,
   "autocomplete": true,
   "bibliofile": "biblio.bib",
   "cite_by": "apalike",
   "current_citInitial": 1,
   "eqLabelWithNumbers": true,
   "eqNumInitial": 1,
   "hotkeys": {
    "equation": "Ctrl-E",
    "itemize": "Ctrl-I"
   },
   "labels_anchors": false,
   "latex_user_defs": false,
   "report_style_numbering": false,
   "user_envs_cfg": false
  },
  "toc": {
   "base_numbering": 1,
   "nav_menu": {},
   "number_sections": true,
   "sideBar": true,
   "skip_h1_title": false,
   "title_cell": "Table of Contents",
   "title_sidebar": "Contents",
   "toc_cell": false,
   "toc_position": {
    "height": "calc(100% - 180px)",
    "left": "10px",
    "top": "150px",
    "width": "407.594px"
   },
   "toc_section_display": true,
   "toc_window_display": true
  }
 },
 "nbformat": 4,
 "nbformat_minor": 5
}
