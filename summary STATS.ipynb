{
 "cells": [
  {
   "cell_type": "code",
   "execution_count": 16,
   "id": "a4042b40",
   "metadata": {},
   "outputs": [],
   "source": [
    "import pandas as pd\n",
    "import numpy as np"
   ]
  },
  {
   "cell_type": "markdown",
   "id": "e97142ac",
   "metadata": {},
   "source": [
    "# Доверительный интервал"
   ]
  },
  {
   "cell_type": "markdown",
   "id": "6a28bf7f",
   "metadata": {},
   "source": [
    "# Параметрические тесты"
   ]
  },
  {
   "cell_type": "markdown",
   "id": "b101dd54",
   "metadata": {},
   "source": [
    "## Одновыборочные тесты\n",
    "Одновыборочные - сравниваем с известным параметром\n",
    "* __Например:__ Проверям, что монета честная с вероятность $p_0 = 0.5$  "
   ]
  },
  {
   "cell_type": "markdown",
   "id": "f1316a82",
   "metadata": {},
   "source": [
    "### Сравнение долей : биномиальный критерий"
   ]
  },
  {
   "cell_type": "markdown",
   "id": "a3bbd31d",
   "metadata": {},
   "source": [
    "* Выборка : $X_1, .. X_N ~ Ber(p)$\n",
    "* $H_0 : p = p_0$ Есть Нулевая гипотеза, что вероятность из нашего Распредления Бернули ровна НЕКОТОРОЙ КОНСТАНТЕ\n",
    "* $H_1 : p != p_0$ Альтернативная гипотеза, что вероятность из нашего Распредления Бернули НЕ РОВНА некоторой константе\n",
    "* Статистика $T_N$       - количество раз успеха\n",
    "$T_N = \\sum_{i=1}^{N}X_i$\n",
    "* Нулевое распределение : $T_N ~ Bin (N, p_0)$"
   ]
  },
  {
   "cell_type": "code",
   "execution_count": 4,
   "id": "713ffee9",
   "metadata": {},
   "outputs": [
    {
     "name": "stdout",
     "output_type": "stream",
     "text": [
      "Значене p-value : 0.012\n"
     ]
    }
   ],
   "source": [
    "from scipy.stats import binom_test\n",
    "\n",
    "\n",
    "N_pos = 37 # кол-во УСПЕХА\n",
    "N = 100 # размер выборки\n",
    "\n",
    "answer = binom_test(x = N_pos, n = N , p=0.5, alternative='two-sided')\n",
    "\n",
    "print(f'Значене p-value : {round(answer, 3)}')\n",
    "\n",
    "#  alternative='two-sided'  -  двусторонняя гипотеза"
   ]
  },
  {
   "cell_type": "markdown",
   "id": "cb481013",
   "metadata": {},
   "source": [
    "* $p-value < 0.05$  \n",
    "\n",
    "* Mожем отклонить $H_0$ : \n",
    "* Вероятность нашего распределения не равна заданному $p_0 = 0.5$\n"
   ]
  },
  {
   "cell_type": "code",
   "execution_count": 6,
   "id": "3d29fd29",
   "metadata": {},
   "outputs": [
    {
     "data": {
      "text/plain": [
       "(0.27537209443806754, 0.46462790556193245)"
      ]
     },
     "execution_count": 6,
     "metadata": {},
     "output_type": "execute_result"
    }
   ],
   "source": [
    "# Вообще можно было использовать Доверительные интервалы\n",
    "\n",
    "from statsmodels.stats.proportion import proportion_confint\n",
    "\n",
    "proportion_confint(count = N_pos,\n",
    "                  nobs = N,\n",
    "                  alpha=0.05,\n",
    "                  method='normal')\n"
   ]
  },
  {
   "cell_type": "markdown",
   "id": "cea6b239",
   "metadata": {},
   "source": [
    "* Доверительный интервал перестал покрывть значение $p_0 = 0.5$"
   ]
  },
  {
   "cell_type": "markdown",
   "id": "0db46564",
   "metadata": {},
   "source": [
    "### Сравнение долей : z -критерий\n"
   ]
  },
  {
   "cell_type": "markdown",
   "id": "4eba406e",
   "metadata": {},
   "source": [
    "Как мы уже говорили: биномальное распределение стремится к нормальному распределению по центральной предельной теореме.\n",
    "\n",
    "Соответственно, для выборки, распределенной по Бернулии, можем посчитать некоторую статистику, которая будет распределена нормально. Такая статистика называется z-критерий.\n",
    "\n",
    "* Выборка: $X_{1}, …, X_{N} ∼ Ber(p)$\n",
    "\n",
    "* Нулевая гипотеза $H_0$: $p = p_{0}$\n",
    "\n",
    "* Альтернативная гипотеза $H_1$: $p ≠ p_{0}$\n",
    "\n",
    "* Статистика z-критерий $Z_{N}$"
   ]
  },
  {
   "cell_type": "markdown",
   "id": "65df4bd8",
   "metadata": {},
   "source": [
    "$Z_n = \\dfrac{\\overline{p}-p_0}{\\sqrt{\\dfrac{p_0(1-p_0)}{N}}}$"
   ]
  },
  {
   "cell_type": "markdown",
   "id": "fa257b1d",
   "metadata": {},
   "source": [
    "* Нулевое распределение   $Z_{N}$ ~ $N(1, 0) $"
   ]
  },
  {
   "cell_type": "code",
   "execution_count": null,
   "id": "13fae9a3",
   "metadata": {},
   "outputs": [],
   "source": [
    "# from scipy.stats import norm"
   ]
  },
  {
   "cell_type": "code",
   "execution_count": 9,
   "id": "e652f721",
   "metadata": {},
   "outputs": [],
   "source": [
    "from statsmodels.stats.proportion import proportions_ztest"
   ]
  },
  {
   "cell_type": "code",
   "execution_count": 13,
   "id": "c519685a",
   "metadata": {},
   "outputs": [
    {
     "name": "stdout",
     "output_type": "stream",
     "text": [
      "z-критерий : -2.693\n",
      "p_value : 0.007\n"
     ]
    }
   ],
   "source": [
    "N_pos = 37 # кол-во УСПЕХА\n",
    "N = 100 # размер выборки\n",
    "p0 = 0.5 # константное значение, с которым мы сравниваем нашу вероятность p\n",
    "\n",
    "zstat, p_value = proportions_ztest(count=N_pos,\n",
    "                 nobs=N,\n",
    "                 value=p0,\n",
    "                 alternative='two-sided')\n",
    "\n",
    "print(f'z-критерий : {round(zstat, 3)}') # если zstat > 0, то новый алгоритм хуже первого, если zstat < 0, то новый алгоритм лучше первого,\n",
    "print(f'p-value : {round(p_value, 3)}')"
   ]
  },
  {
   "cell_type": "markdown",
   "id": "0fe9a68f",
   "metadata": {},
   "source": [
    "### Сравнение средних : z -критерий (редко)\n",
    "\n",
    "*__!!!! Нужно знать дисперию__*"
   ]
  },
  {
   "cell_type": "markdown",
   "id": "aaaa0cba",
   "metadata": {},
   "source": [
    "* Выборка: $X_{1}, …, X_{N} ∼ N(\\mu, \\sigma$ $\\sigma$ - __известна__ - Выборка из нормального распределения с известной дисперсией\n",
    "\n",
    "* Нулевая гипотеза $H_0$: $\\mu = \\mu_{0}$  - проверяем, что среднее равно заданному числу\n",
    "\n",
    "* Альтернативная гипотеза $H_1$: $\\mu ≠ \\mu_{0}$\n",
    "\n",
    "* Статистика z-критерий $Z_{N}$ - выглядит как нормировка нашего выборочного среднего"
   ]
  },
  {
   "cell_type": "markdown",
   "id": "1ddcd39a",
   "metadata": {},
   "source": [
    "$Z_n = \\dfrac{\\overline{x}-\\mu_0}{\\sqrt{\\dfrac{\\sigma}{\\sqrt{N}}}}$"
   ]
  },
  {
   "cell_type": "markdown",
   "id": "87218c4b",
   "metadata": {},
   "source": [
    "* Нулевое распределение   $Z_{N}$ ~ $N(1, 0) $"
   ]
  },
  {
   "cell_type": "markdown",
   "id": "e0ca70b8",
   "metadata": {},
   "source": [
    "### Сравнение средних : t -критерий \n",
    "\n",
    "*___Если дисперсия ГС не известнаю Мы оцениваем её по выборке, то среднее распределено не нормально, а по Стьюденту___*"
   ]
  },
  {
   "cell_type": "markdown",
   "id": "a7ff48e8",
   "metadata": {},
   "source": [
    "* Выборка: $X_{1}, …, X_{N}$ ∼ $N(\\mu, \\sigma)$ $\\sigma$ - не известна \n",
    "\n",
    "* Нулевая гипотеза $H_0$: $\\mu = \\mu_{0}$  - проверяем, что среднее равно заданному числу\n",
    "\n",
    "* Альтернативная гипотеза $H_1$: $\\mu ≠ \\mu_{0}$\n",
    "\n",
    "* Статистика t-критерий $T_{N}$ - "
   ]
  },
  {
   "cell_type": "markdown",
   "id": "f5a0c995",
   "metadata": {},
   "source": [
    "$T_n = \\dfrac{\\overline{x}-\\mu_0}{\\sqrt{\\dfrac{S}{\\sqrt{N}}}}$"
   ]
  },
  {
   "cell_type": "markdown",
   "id": "1ea486dd",
   "metadata": {},
   "source": [
    "* Нулевое распределение   $T_{N}$ ~ $St(N-1) $"
   ]
  },
  {
   "cell_type": "markdown",
   "id": "c3e10dd8",
   "metadata": {},
   "source": [
    "$N$ - количество наблюдений в выборке; \n",
    "$S$ - дисперсия по выборке"
   ]
  },
  {
   "cell_type": "code",
   "execution_count": 19,
   "id": "c2792b95",
   "metadata": {},
   "outputs": [
    {
     "name": "stdout",
     "output_type": "stream",
     "text": [
      "среднее 169.13273016957777\n"
     ]
    }
   ],
   "source": [
    "data = np.random.normal(loc=168, scale=10, size=100)\n",
    "\n",
    "print('среднее', np.mean(data))"
   ]
  },
  {
   "cell_type": "code",
   "execution_count": 21,
   "id": "e7cc6ec7",
   "metadata": {},
   "outputs": [
    {
     "data": {
      "text/plain": [
       "Ttest_1sampResult(statistic=-0.8647846725010542, pvalue=0.38924761210181313)"
      ]
     },
     "execution_count": 21,
     "metadata": {},
     "output_type": "execute_result"
    }
   ],
   "source": [
    "from scipy.stats import ttest_1samp\n",
    "\n",
    "ttest_1samp(a=data, # наша выборка\n",
    "           popmean=170, # то значение с которым мы его сравниваем\n",
    "           alternative='two-sided') # альтернатива - в нашем случае двустторонняя"
   ]
  },
  {
   "cell_type": "markdown",
   "id": "c54e27a0",
   "metadata": {},
   "source": [
    "## Двувыборочные критерии\n",
    "* Двувыборочные  - сравниваем две выборки между собой\n",
    "       * Независимые выборки  - в выборках разные объекты.\n",
    "       * Связанные выборки  - два замера на одних и тех же объектах.  "
   ]
  },
  {
   "cell_type": "markdown",
   "id": "69325b2e",
   "metadata": {},
   "source": [
    "### Двувыборочные : Несвязанные выборки"
   ]
  },
  {
   "cell_type": "markdown",
   "id": "87529bc3",
   "metadata": {},
   "source": [
    "#### Сравнение долей : Z-критерий\n",
    "\n",
    "* Придумали новый алгоритм рекомендаций \n",
    "* Люди могут КУПИТЬ рекомендованный товар или НЕ КУПИТЬ\n",
    "* Хотим проверить лучше ли новый алгоритм ?\n",
    "* У 50% пользователей будет крутиться старый алгоритм, у других 50% пользователей - НОВАЯ ВЕРСИЯ алгоритма\n",
    " "
   ]
  },
  {
   "cell_type": "markdown",
   "id": "5da225a8",
   "metadata": {},
   "source": [
    "* Выборки : $X_1 $ ~ $Ber(p_1)$ и $X_2 $ ~ $Ber(p_2)$ - У нас есть две выборки и каждая с распределением Бернули, но каждая со своей вероятностью $p_1$ и $p_2$\n",
    "\n",
    "* $H_0: p_1 = p_2$\n",
    "* $H_1: p_1 != p_2$\n",
    "* Статистика $Z_N$"
   ]
  },
  {
   "cell_type": "markdown",
   "id": "16646864",
   "metadata": {},
   "source": [
    "$Z_N = \\dfrac {\\overline{p_1}-\\overline{p_2}}{\\sqrt{P(1-P)(\\dfrac{1}{n_1}+\\dfrac{1}{n_2})}}$\n",
    ", где\n",
    "$P=\\dfrac{\\overline{p_1}*n_1 + \\overline{p_2}*n_2}{n_1+n_2}$"
   ]
  },
  {
   "cell_type": "markdown",
   "id": "d2774423",
   "metadata": {},
   "source": [
    "$n_1, n_2$ - размеры выборок соответственно"
   ]
  },
  {
   "cell_type": "markdown",
   "id": "27d3b2f4",
   "metadata": {},
   "source": [
    "* Нулевое распределение: $Z_n$ ~ $N(0, 1)$"
   ]
  },
  {
   "cell_type": "code",
   "execution_count": 22,
   "id": "2cac2a80",
   "metadata": {},
   "outputs": [],
   "source": [
    "# Размеры выборок :\n",
    "\n",
    "N1 = 200 # Размер первой выборки\n",
    "N2 = 205 # Размер второй выборки\n",
    "\n",
    "\n",
    "# Количество купивших пользователей по выборкам\n",
    "\n",
    "N1_pos = 110 # Количество пользователей из 1 выборки купивших по рекомендации\n",
    "N2_pos = 120 # Количество пользователей из 2 выборки купивших по рекомендации"
   ]
  },
  {
   "cell_type": "code",
   "execution_count": 23,
   "id": "85c8c90e",
   "metadata": {},
   "outputs": [],
   "source": [
    "#  Импортируем необходимую бибилиотеку\n",
    "\n",
    "from statsmodels.stats.proportion import proportions_ztest"
   ]
  },
  {
   "cell_type": "code",
   "execution_count": 24,
   "id": "2fa72b8b",
   "metadata": {},
   "outputs": [
    {
     "name": "stdout",
     "output_type": "stream",
     "text": [
      "z-критерий : -0.718\n",
      "p_value : 0.473\n"
     ]
    }
   ],
   "source": [
    "zstat, p_value = proportions_ztest(count= [N1_pos, N2_pos], nobs = [N1, N2], alternative = 'two-sided')\n",
    "\n",
    "print(f'z-критерий : {round(zstat, 3)}') # если zstat > 0, то новый алгоритм хуже первого, если zstat < 0, то новый алгоритм лучше первого,\n",
    "print(f'p_value : {round(p_value, 3)}')"
   ]
  },
  {
   "cell_type": "markdown",
   "id": "43a06b38",
   "metadata": {},
   "source": [
    "* $p-value > 0.05$  \n",
    "\n",
    "* Не можем отклонить $H_0$ : \n",
    "* Статистические выборки не отличаются. \n",
    "* Новый алгоритм не лучше старого"
   ]
  },
  {
   "cell_type": "markdown",
   "id": "2620bd16",
   "metadata": {},
   "source": [
    "#### Сравнение средних : t-критерий"
   ]
  },
  {
   "cell_type": "code",
   "execution_count": null,
   "id": "35d534cb",
   "metadata": {},
   "outputs": [],
   "source": []
  },
  {
   "cell_type": "markdown",
   "id": "37d067bf",
   "metadata": {},
   "source": [
    "* Выборки : $X_1 $ ~ $N(\\mu_1,\\sigma_1)$ и $X_2 $ ~ $N(\\mu_2,\\sigma_2)$ - $\\sigma_1$ и $\\sigma_2$ - __не известны__\n",
    "\n",
    "* $H_0: \\mu_1 = \\mu_2$\n",
    "* $H_1: \\mu_1 != \\mu_2$\n",
    "* Статистика $T_N$"
   ]
  },
  {
   "cell_type": "markdown",
   "id": "bb0ee18f",
   "metadata": {},
   "source": [
    "$T_N = \\dfrac {\\overline{x_1}-\\overline{x_2}}{\\sqrt{(\\dfrac{S_1^2}{n_1}+\\dfrac{S_1^2}{n_2})}}$\n"
   ]
  },
  {
   "cell_type": "markdown",
   "id": "e7b2cf68",
   "metadata": {},
   "source": [
    "* Нулевое распределение: $T_n$ ~ $St(v)$, где $v$ -степень свободы"
   ]
  },
  {
   "cell_type": "code",
   "execution_count": null,
   "id": "c136ddef",
   "metadata": {},
   "outputs": [],
   "source": [
    "df = pd.read_csv('https://www.kaggle.com/datasets/anderas/car-consume?select=measurements.csv')"
   ]
  },
  {
   "cell_type": "markdown",
   "id": "f83fcb16",
   "metadata": {},
   "source": [
    "### Двувыборочные : Связанные выборки"
   ]
  },
  {
   "cell_type": "markdown",
   "id": "14fd48c6",
   "metadata": {},
   "source": [
    "#### Сравнение долей : z-критерий\n",
    "\n",
    "* Сравниваем одну целевую группу пользоваелей: ДО события и ПОСЛЕ\n",
    "* Например, как голосуют избиратели за кандидатов до дебатов и после\n",
    "* Используем Z-критерий для связанных выборок"
   ]
  },
  {
   "cell_type": "markdown",
   "id": "fc65d9fc",
   "metadata": {},
   "source": []
  },
  {
   "cell_type": "markdown",
   "id": "8d45f595",
   "metadata": {},
   "source": [
    "#### Сравнение долей : биномиальный критерий"
   ]
  },
  {
   "cell_type": "markdown",
   "id": "3b31d7b9",
   "metadata": {},
   "source": [
    "#### Сравнение средних : z -критерий\n",
    "\n",
    "*__!!!! Нужно знать дисперию__*"
   ]
  },
  {
   "cell_type": "code",
   "execution_count": null,
   "id": "a5794dcc",
   "metadata": {},
   "outputs": [],
   "source": [
    "#  "
   ]
  },
  {
   "cell_type": "markdown",
   "id": "5b036ee8",
   "metadata": {},
   "source": [
    "# Непараметрические тесты"
   ]
  },
  {
   "cell_type": "code",
   "execution_count": null,
   "id": "5cc2e26d",
   "metadata": {},
   "outputs": [],
   "source": []
  },
  {
   "cell_type": "markdown",
   "id": "2a05093a",
   "metadata": {},
   "source": [
    "## Критерий знаков"
   ]
  },
  {
   "cell_type": "code",
   "execution_count": null,
   "id": "ea4fc112",
   "metadata": {},
   "outputs": [],
   "source": [
    "from statsmodels.stats.descriptivestats import sign_test"
   ]
  },
  {
   "cell_type": "markdown",
   "id": "488310d6",
   "metadata": {},
   "source": [
    "### Одновыборочный"
   ]
  },
  {
   "cell_type": "markdown",
   "id": "7d330be5",
   "metadata": {},
   "source": [
    "### Двувыборочный : связанные выборки"
   ]
  },
  {
   "cell_type": "code",
   "execution_count": null,
   "id": "2c8b6c74",
   "metadata": {},
   "outputs": [],
   "source": []
  },
  {
   "cell_type": "markdown",
   "id": "f2c00e4c",
   "metadata": {},
   "source": [
    "## Критерий рангов"
   ]
  },
  {
   "cell_type": "code",
   "execution_count": 26,
   "id": "b9fcbe6f",
   "metadata": {},
   "outputs": [
    {
     "data": {
      "text/plain": [
       "0    7.0\n",
       "1    1.5\n",
       "2    5.5\n",
       "3    1.5\n",
       "4    4.0\n",
       "5    3.0\n",
       "6    5.5\n",
       "dtype: float64"
      ]
     },
     "execution_count": 26,
     "metadata": {},
     "output_type": "execute_result"
    }
   ],
   "source": [
    "# высчитать ранг можно только к  пандавской серии\n",
    "pd.Series([7, 1, 5, 1, 3, 2, 5]).rank()"
   ]
  },
  {
   "cell_type": "code",
   "execution_count": null,
   "id": "c07ad3c1",
   "metadata": {},
   "outputs": [],
   "source": []
  },
  {
   "cell_type": "markdown",
   "id": "fd3b07b4",
   "metadata": {},
   "source": [
    "## Критерий Манна-Уитни-Уилкоксона"
   ]
  },
  {
   "cell_type": "code",
   "execution_count": 27,
   "id": "cafd6fb5",
   "metadata": {},
   "outputs": [],
   "source": [
    "from scipy.stats import mannwhitneyu"
   ]
  },
  {
   "cell_type": "markdown",
   "id": "f5e85490",
   "metadata": {},
   "source": [
    "- Если выборки достаточно большие $N_1 , N_2 > 10$, то табличное распределение становится похожим на нормальное:\n",
    "$R_N ∼ ℕ (\\frac{N_1(N_1 + N_2 + 1)}{2} , \\frac{N_1 N_2(N1 + N2 + 1)}{12} )$"
   ]
  },
  {
   "cell_type": "code",
   "execution_count": 25,
   "id": "5b0002e2",
   "metadata": {},
   "outputs": [],
   "source": [
    "N1 = 20 # Размер Выборки 1\n",
    "N2 = 25 # Размер Выборки 2"
   ]
  },
  {
   "cell_type": "code",
   "execution_count": null,
   "id": "fbdbd843",
   "metadata": {},
   "outputs": [],
   "source": [
    "# Практический пример\n",
    "\n",
    "from scipy.stats import norm # по замечанию большоего размера выборки - аппроксимация нормального распределения\n",
    "\n"
   ]
  }
 ],
 "metadata": {
  "kernelspec": {
   "display_name": "Python 3 (ipykernel)",
   "language": "python",
   "name": "python3"
  },
  "language_info": {
   "codemirror_mode": {
    "name": "ipython",
    "version": 3
   },
   "file_extension": ".py",
   "mimetype": "text/x-python",
   "name": "python",
   "nbconvert_exporter": "python",
   "pygments_lexer": "ipython3",
   "version": "3.9.7"
  },
  "latex_envs": {
   "LaTeX_envs_menu_present": true,
   "autoclose": false,
   "autocomplete": true,
   "bibliofile": "biblio.bib",
   "cite_by": "apalike",
   "current_citInitial": 1,
   "eqLabelWithNumbers": true,
   "eqNumInitial": 1,
   "hotkeys": {
    "equation": "Ctrl-E",
    "itemize": "Ctrl-I"
   },
   "labels_anchors": false,
   "latex_user_defs": false,
   "report_style_numbering": false,
   "user_envs_cfg": false
  },
  "toc": {
   "base_numbering": 1,
   "nav_menu": {},
   "number_sections": true,
   "sideBar": true,
   "skip_h1_title": false,
   "title_cell": "Table of Contents",
   "title_sidebar": "Contents",
   "toc_cell": false,
   "toc_position": {
    "height": "calc(100% - 180px)",
    "left": "10px",
    "top": "150px",
    "width": "407.594px"
   },
   "toc_section_display": true,
   "toc_window_display": true
  }
 },
 "nbformat": 4,
 "nbformat_minor": 5
}
