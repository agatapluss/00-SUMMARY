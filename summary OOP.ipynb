{
 "cells": [
  {
   "cell_type": "code",
   "execution_count": null,
   "id": "49249b4a",
   "metadata": {},
   "outputs": [],
   "source": []
  },
  {
   "cell_type": "markdown",
   "id": "d3362541",
   "metadata": {},
   "source": [
    "# Объектно-ориентированное программирование"
   ]
  },
  {
   "cell_type": "markdown",
   "id": "3ac93417",
   "metadata": {},
   "source": [
    "## Атрибуты и обхекты класса"
   ]
  },
  {
   "cell_type": "code",
   "execution_count": 73,
   "id": "bd679a18",
   "metadata": {},
   "outputs": [],
   "source": [
    "# Мы хотим определить класс\n",
    "\n",
    "class Point:\n",
    "    \"Класс для представления координат на плоскости\"\n",
    "#     пропишем атрибуты (свойства) color и  circle\n",
    "    color = 'red'\n",
    "    circle = 2 # определят радиус точек"
   ]
  },
  {
   "cell_type": "code",
   "execution_count": 74,
   "id": "bd9013ef",
   "metadata": {},
   "outputs": [
    {
     "data": {
      "text/plain": [
       "'red'"
      ]
     },
     "execution_count": 74,
     "metadata": {},
     "output_type": "execute_result"
    }
   ],
   "source": [
    "# Прочитам свойство класса\n",
    "Point.color"
   ]
  },
  {
   "cell_type": "code",
   "execution_count": 75,
   "id": "6338a6a2",
   "metadata": {},
   "outputs": [
    {
     "data": {
      "text/plain": [
       "'black'"
      ]
     },
     "execution_count": 75,
     "metadata": {},
     "output_type": "execute_result"
    }
   ],
   "source": [
    "# Переопределим свойство класса\n",
    "Point.color = 'black'\n",
    "Point.color"
   ]
  },
  {
   "cell_type": "code",
   "execution_count": 76,
   "id": "70ae05eb",
   "metadata": {},
   "outputs": [
    {
     "data": {
      "text/plain": [
       "mappingproxy({'__module__': '__main__',\n",
       "              '__doc__': 'Класс для представления координат на плоскости',\n",
       "              'color': 'black',\n",
       "              'circle': 2,\n",
       "              '__dict__': <attribute '__dict__' of 'Point' objects>,\n",
       "              '__weakref__': <attribute '__weakref__' of 'Point' objects>})"
      ]
     },
     "execution_count": 76,
     "metadata": {},
     "output_type": "execute_result"
    }
   ],
   "source": [
    "# Чтобы увидеть все свойства классса\n",
    "Point.__dict__"
   ]
  },
  {
   "cell_type": "code",
   "execution_count": 77,
   "id": "e2ff84ca",
   "metadata": {},
   "outputs": [
    {
     "data": {
      "text/plain": [
       "'black'"
      ]
     },
     "execution_count": 77,
     "metadata": {},
     "output_type": "execute_result"
    }
   ],
   "source": [
    "# Создадим экземпляр класса\n",
    "a = Point()\n",
    "# Через экземпляр класса доступны все атрибуры класса, которому он принадлежит\n",
    "a.color"
   ]
  },
  {
   "cell_type": "code",
   "execution_count": 78,
   "id": "701cb1c2",
   "metadata": {},
   "outputs": [
    {
     "data": {
      "text/plain": [
       "True"
      ]
     },
     "execution_count": 78,
     "metadata": {},
     "output_type": "execute_result"
    }
   ],
   "source": [
    "# Проверим, что объект а действительно относится к классу Point\n",
    "\n",
    "isinstance(a, Point)\n",
    "\n",
    "# Видем, что класс здесь воспринимается как тип данных "
   ]
  },
  {
   "cell_type": "code",
   "execution_count": 79,
   "id": "9e421656",
   "metadata": {},
   "outputs": [
    {
     "data": {
      "text/plain": [
       "{}"
      ]
     },
     "execution_count": 79,
     "metadata": {},
     "output_type": "execute_result"
    }
   ],
   "source": [
    "# Пока что в пространстве имен объекта а нет своих свойст\n",
    "a.__dict__\n",
    "#  Он обращает к пространству имет класса Point"
   ]
  },
  {
   "cell_type": "code",
   "execution_count": 80,
   "id": "1a58e95e",
   "metadata": {},
   "outputs": [
    {
     "name": "stdout",
     "output_type": "stream",
     "text": [
      "Посмотрим на свойство объекта а white\n",
      "Посмотрим на пространство имен объекта a {'color': 'white'}\n",
      "Проверим, что пространство имен класса Point никак не изменилось {'__module__': '__main__', '__doc__': 'Класс для представления координат на плоскости', 'color': 'black', 'circle': 2, '__dict__': <attribute '__dict__' of 'Point' objects>, '__weakref__': <attribute '__weakref__' of 'Point' objects>}\n"
     ]
    }
   ],
   "source": [
    "# Но если мы передадим ное значеие свойства для объекта а,\n",
    "# Во-первых - это свойство появится в пространстве имен объекта а\n",
    "# Во-вторых - оно ни как не переопределится у класса Point в целом\n",
    "\n",
    "a.color = 'white'\n",
    "print('Посмотрим на свойство объекта а', a.color)\n",
    "print('Посмотрим на пространство имен объекта a', a.__dict__)\n",
    "print('Проверим, что пространство имен класса Point никак не изменилось', Point.__dict__)"
   ]
  },
  {
   "cell_type": "markdown",
   "id": "8a39d084",
   "metadata": {},
   "source": [
    "### Добавление новых атрибутов в Класс"
   ]
  },
  {
   "cell_type": "code",
   "execution_count": 81,
   "id": "811a03d3",
   "metadata": {},
   "outputs": [
    {
     "data": {
      "text/plain": [
       "mappingproxy({'__module__': '__main__',\n",
       "              '__doc__': 'Класс для представления координат на плоскости',\n",
       "              'color': 'black',\n",
       "              'circle': 2,\n",
       "              '__dict__': <attribute '__dict__' of 'Point' objects>,\n",
       "              '__weakref__': <attribute '__weakref__' of 'Point' objects>,\n",
       "              'type_pt': 'disc'})"
      ]
     },
     "execution_count": 81,
     "metadata": {},
     "output_type": "execute_result"
    }
   ],
   "source": [
    "# Создадим новое свойство для клааса Point - Добавим динамически новый атрибут\n",
    "\n",
    "Point.type_pt = 'disc'\n",
    "\n",
    "# Проверим пространство имен класса Point\n",
    "Point.__dict__"
   ]
  },
  {
   "cell_type": "code",
   "execution_count": 82,
   "id": "2f42f9b9",
   "metadata": {},
   "outputs": [
    {
     "data": {
      "text/plain": [
       "mappingproxy({'__module__': '__main__',\n",
       "              '__doc__': 'Класс для представления координат на плоскости',\n",
       "              'color': 'black',\n",
       "              'circle': 2,\n",
       "              '__dict__': <attribute '__dict__' of 'Point' objects>,\n",
       "              '__weakref__': <attribute '__weakref__' of 'Point' objects>,\n",
       "              'type_pt': 'disc',\n",
       "              'prob': 1})"
      ]
     },
     "execution_count": 82,
     "metadata": {},
     "output_type": "execute_result"
    }
   ],
   "source": [
    "# Тоже самое можно провернуть через метод setattr\n",
    "\n",
    "# на первом месте -название класса\n",
    "# на втором - название атрибута, через строку\n",
    "# на третьем - значение атрибута\n",
    "\n",
    "setattr(Point, 'prob', 1)\n",
    "Point.__dict__"
   ]
  },
  {
   "cell_type": "code",
   "execution_count": 83,
   "id": "9443a3d6",
   "metadata": {},
   "outputs": [
    {
     "data": {
      "text/plain": [
       "mappingproxy({'__module__': '__main__',\n",
       "              '__doc__': 'Класс для представления координат на плоскости',\n",
       "              'color': 'black',\n",
       "              'circle': 2,\n",
       "              '__dict__': <attribute '__dict__' of 'Point' objects>,\n",
       "              '__weakref__': <attribute '__weakref__' of 'Point' objects>,\n",
       "              'type_pt': 'disc',\n",
       "              'prob': 100})"
      ]
     },
     "execution_count": 83,
     "metadata": {},
     "output_type": "execute_result"
    }
   ],
   "source": [
    "# Если данное свойство уже существут, то через setattr оно просто переопределится\n",
    "\n",
    "setattr(Point, 'prob', 100)\n",
    "Point.__dict__"
   ]
  },
  {
   "cell_type": "markdown",
   "id": "5c0043b4",
   "metadata": {},
   "source": [
    "### Удаление атрибутов из Класса"
   ]
  },
  {
   "cell_type": "markdown",
   "id": "a32029de",
   "metadata": {},
   "source": [
    "#### Через del"
   ]
  },
  {
   "cell_type": "code",
   "execution_count": 23,
   "id": "be9ebc59",
   "metadata": {},
   "outputs": [],
   "source": [
    "# Удаление атрибута класса можно через опертатор del\n",
    "\n",
    "del Point.prob"
   ]
  },
  {
   "cell_type": "code",
   "execution_count": 24,
   "id": "24d9ca25",
   "metadata": {},
   "outputs": [
    {
     "data": {
      "text/plain": [
       "mappingproxy({'__module__': '__main__',\n",
       "              'color': 'black',\n",
       "              'circle': 2,\n",
       "              '__dict__': <attribute '__dict__' of 'Point' objects>,\n",
       "              '__weakref__': <attribute '__weakref__' of 'Point' objects>,\n",
       "              '__doc__': None,\n",
       "              'type_pt': 'disc'})"
      ]
     },
     "execution_count": 24,
     "metadata": {},
     "output_type": "execute_result"
    }
   ],
   "source": [
    "Point.__dict__"
   ]
  },
  {
   "cell_type": "code",
   "execution_count": 25,
   "id": "fc7f358a",
   "metadata": {},
   "outputs": [
    {
     "ename": "AttributeError",
     "evalue": "prob",
     "output_type": "error",
     "traceback": [
      "\u001b[1;31m---------------------------------------------------------------------------\u001b[0m",
      "\u001b[1;31mAttributeError\u001b[0m                            Traceback (most recent call last)",
      "\u001b[1;32m~\\AppData\\Local\\Temp/ipykernel_14708/150205075.py\u001b[0m in \u001b[0;36m<module>\u001b[1;34m\u001b[0m\n\u001b[0;32m      2\u001b[0m \u001b[1;31m# Плэтому для начала ыбло юы хороши проверить наличие атрибута в Классе\u001b[0m\u001b[1;33m\u001b[0m\u001b[1;33m\u001b[0m\u001b[0m\n\u001b[0;32m      3\u001b[0m \u001b[1;33m\u001b[0m\u001b[0m\n\u001b[1;32m----> 4\u001b[1;33m \u001b[1;32mdel\u001b[0m \u001b[0mPoint\u001b[0m\u001b[1;33m.\u001b[0m\u001b[0mprob\u001b[0m\u001b[1;33m\u001b[0m\u001b[1;33m\u001b[0m\u001b[0m\n\u001b[0m",
      "\u001b[1;31mAttributeError\u001b[0m: prob"
     ]
    }
   ],
   "source": [
    "# Если мы попытаемся удалить не существующий атрибут в классе, то получим шибку\n",
    "\n",
    "del Point.prob"
   ]
  },
  {
   "cell_type": "code",
   "execution_count": 26,
   "id": "236f3a46",
   "metadata": {},
   "outputs": [
    {
     "data": {
      "text/plain": [
       "False"
      ]
     },
     "execution_count": 26,
     "metadata": {},
     "output_type": "execute_result"
    }
   ],
   "source": [
    "# Плэтому для начала ыбло юы хороши проверить наличие атрибута в Классе\n",
    "# Для этого мы будем использовать метода hasattr\n",
    "\n",
    "hasattr(Point, 'prob')\n",
    "\n",
    "# На выходе она даст False, потому что такого свойства в Классе больше нет"
   ]
  },
  {
   "cell_type": "markdown",
   "id": "be9de3ff",
   "metadata": {},
   "source": [
    "#### Через delattr"
   ]
  },
  {
   "cell_type": "code",
   "execution_count": 27,
   "id": "d754bc93",
   "metadata": {},
   "outputs": [],
   "source": [
    "# во-первых - указываем название класса\n",
    "# во-вторых - название атрибута\n",
    "\n",
    "delattr(Point, 'type_pt')"
   ]
  },
  {
   "cell_type": "code",
   "execution_count": 28,
   "id": "c5e9ff7d",
   "metadata": {},
   "outputs": [
    {
     "data": {
      "text/plain": [
       "mappingproxy({'__module__': '__main__',\n",
       "              'color': 'black',\n",
       "              'circle': 2,\n",
       "              '__dict__': <attribute '__dict__' of 'Point' objects>,\n",
       "              '__weakref__': <attribute '__weakref__' of 'Point' objects>,\n",
       "              '__doc__': None})"
      ]
     },
     "execution_count": 28,
     "metadata": {},
     "output_type": "execute_result"
    }
   ],
   "source": [
    "Point.__dict__"
   ]
  },
  {
   "cell_type": "code",
   "execution_count": 29,
   "id": "3795ab63",
   "metadata": {},
   "outputs": [
    {
     "name": "stdout",
     "output_type": "stream",
     "text": [
      "Вспомним, что мы задавали своё свойство объекту а white\n",
      "И оно отличается от свойства color в Классе point black\n",
      "Теперь мы удалим свойство color в объекте а\n",
      "И посмотрим на его свойство black\n"
     ]
    }
   ],
   "source": [
    "# Тоже самое можно прокручиват с объектами... можно удалять атрибуты из пространства имём объекта\n",
    "#  Тогда объект будет брать это свойство из Класса\n",
    "\n",
    "print('Вспомним, что мы задавали своё свойство объекту а', a.color)\n",
    "print('И оно отличается от свойства color в Классе point', Point.color)\n",
    "print('Теперь мы удалим свойство color в объекте а')\n",
    "delattr(a, 'color')\n",
    "print('И посмотрим на его свойство', a.color)"
   ]
  },
  {
   "cell_type": "markdown",
   "id": "007f6117",
   "metadata": {},
   "source": [
    "### Локальные атрибуты объектов"
   ]
  },
  {
   "cell_type": "code",
   "execution_count": 31,
   "id": "d7820e51",
   "metadata": {},
   "outputs": [
    {
     "name": "stdout",
     "output_type": "stream",
     "text": [
      "Посмотрим на атрибуты класса {'__module__': '__main__', 'color': 'black', 'circle': 2, '__dict__': <attribute '__dict__' of 'Point' objects>, '__weakref__': <attribute '__weakref__' of 'Point' objects>, '__doc__': None}\n",
      "И посмотрим на атрибуты объекта а {'x': 1}\n"
     ]
    }
   ],
   "source": [
    "# Создадим локальные атрибуты для объектов класса Point\n",
    "\n",
    "a.x = 1\n",
    "\n",
    "print('Посмотрим на атрибуты класса', Point.__dict__)\n",
    "print('И посмотрим на атрибуты объекта а', a.__dict__)"
   ]
  },
  {
   "cell_type": "markdown",
   "id": "1b5eb31d",
   "metadata": {},
   "source": [
    "### Описание класса"
   ]
  },
  {
   "cell_type": "code",
   "execution_count": 34,
   "id": "d85d2684",
   "metadata": {},
   "outputs": [
    {
     "data": {
      "text/plain": [
       "'Класс для представления координат на плоскости'"
      ]
     },
     "execution_count": 34,
     "metadata": {},
     "output_type": "execute_result"
    }
   ],
   "source": [
    "#  этот комментрай прописан в скобках после названия класса... можно листнуть наверх\n",
    "Point.__doc__"
   ]
  },
  {
   "cell_type": "markdown",
   "id": "602cb318",
   "metadata": {},
   "source": [
    "## Методы класса\n",
    "__Метод__ - Особая функция, определенная внутри класса.\n",
    "\n",
    "Определяется глаголом"
   ]
  },
  {
   "cell_type": "code",
   "execution_count": null,
   "id": "a8c76139",
   "metadata": {},
   "outputs": [],
   "source": []
  },
  {
   "cell_type": "code",
   "execution_count": 44,
   "id": "687cfaa4",
   "metadata": {},
   "outputs": [],
   "source": [
    "# Создадим метод set_point в Классе\n",
    "# \n",
    "\n",
    "\n",
    "class Point:\n",
    "    \"Класс для представления координат на плоскости\"\n",
    "#     пропишем атрибуты (свойства) color и  circle\n",
    "    color = 'red'\n",
    "    circle = 2 # определят радиус точек\n",
    "    \n",
    "    def set_coords(self, x, y):\n",
    "        print('Загрузили новые координаты')\n",
    "        self.x = x\n",
    "        self.y = y\n",
    "        \n",
    "    def get_coords(self):\n",
    "        return (self.x, self.y)"
   ]
  },
  {
   "cell_type": "code",
   "execution_count": 45,
   "id": "aee3e5bc",
   "metadata": {},
   "outputs": [
    {
     "name": "stdout",
     "output_type": "stream",
     "text": [
      "Загрузили новые координаты\n"
     ]
    },
    {
     "data": {
      "text/plain": [
       "{'x': 10, 'y': 20}"
      ]
     },
     "execution_count": 45,
     "metadata": {},
     "output_type": "execute_result"
    }
   ],
   "source": [
    "# Создадим новый объект и вызовим новый мето\n",
    "# Затем посмотри на пространство имен объекта pt\n",
    "\n",
    "pt = Point()\n",
    "\n",
    "pt.set_coords(10, 20)\n",
    "\n",
    "pt.__dict__"
   ]
  },
  {
   "cell_type": "code",
   "execution_count": 46,
   "id": "d215a9c8",
   "metadata": {},
   "outputs": [
    {
     "data": {
      "text/plain": [
       "(10, 20)"
      ]
     },
     "execution_count": 46,
     "metadata": {},
     "output_type": "execute_result"
    }
   ],
   "source": [
    "pt.get_coords()"
   ]
  },
  {
   "cell_type": "markdown",
   "id": "56d79e5b",
   "metadata": {},
   "source": [
    "Self  в функциях нужен для того, чтобы показать функции с каким объектом класса мы работаем"
   ]
  },
  {
   "cell_type": "markdown",
   "id": "e518ce13",
   "metadata": {},
   "source": [
    "## Инициализатор и финализатор"
   ]
  },
  {
   "cell_type": "markdown",
   "id": "29d3eee9",
   "metadata": {},
   "source": [
    "* Инициализация объекта  - при созданиии\n",
    "* Финализаиця объекта  - при удалении\n",
    "\n",
    "* Есть специальные магические методы "
   ]
  },
  {
   "cell_type": "code",
   "execution_count": null,
   "id": "ba675322",
   "metadata": {},
   "outputs": [],
   "source": [
    "# __init__ Вызывается сразу после создания класса\n",
    "# __del__ вызывается сразу после удаления экземпляра класса"
   ]
  },
  {
   "cell_type": "code",
   "execution_count": 47,
   "id": "c3df8270",
   "metadata": {},
   "outputs": [],
   "source": [
    "#  На практике работать с таким видом класса не совсем ужобно\n",
    "# Потому что для того чтоюбы в объект передать его координаты x y наму нужно сначла создать объект класса\n",
    "# Потом вызвать мутод set_coords\n",
    "# Было бы удобнее задавать  свойства объекта при сооздании\n",
    "# Для этого нам поможет магический матод __init__\n",
    "\n",
    "class Point:\n",
    "    \"Класс для представления координат на плоскости\"\n",
    "#     пропишем атрибуты (свойства) color и  circle\n",
    "    color = 'red'\n",
    "    circle = 2 # определят радиус точек\n",
    "    \n",
    "    def set_coords(self, x, y):\n",
    "        print('Загрузили новые координаты')\n",
    "        self.x = x\n",
    "        self.y = y\n",
    "        \n",
    "    def get_coords(self):\n",
    "        return (self.x, self.y)"
   ]
  },
  {
   "cell_type": "code",
   "execution_count": 64,
   "id": "066950d8",
   "metadata": {},
   "outputs": [],
   "source": [
    "# Перезапишем класс с методам __init__\n",
    "\n",
    "class Point:\n",
    "    \"Класс для представления координат на плоскости\"\n",
    "#     пропишем атрибуты (свойства) color и  circle\n",
    "    color = 'red'\n",
    "    circle = 2 # определят радиус точек\n",
    "    \n",
    "    \n",
    "    def __init__(self, x, y): # Можно прописать формальные значения атрибутов x=0, y=0, \n",
    "                                # тогда объекты можно будет создавать без обязательной передачи\n",
    "        self.x = x\n",
    "        self.y = y\n",
    "        \n",
    "        \n",
    "    def __del__(self):\n",
    "        print('Удаление экземпляра')\n",
    "        \n",
    "        \n",
    "        \n",
    "    def set_coords(self, x, y):\n",
    "        print('Загрузили новые координаты')\n",
    "        self.x = x\n",
    "        self.y = y\n",
    "        \n",
    "    def get_coords(self):\n",
    "        return (self.x, self.y)"
   ]
  },
  {
   "cell_type": "code",
   "execution_count": 65,
   "id": "9236ddb8",
   "metadata": {},
   "outputs": [
    {
     "data": {
      "text/plain": [
       "<__main__.Point at 0x23611e22940>"
      ]
     },
     "execution_count": 65,
     "metadata": {},
     "output_type": "execute_result"
    }
   ],
   "source": [
    "Point(20, 30)"
   ]
  },
  {
   "cell_type": "code",
   "execution_count": 57,
   "id": "ef00b6a8",
   "metadata": {},
   "outputs": [],
   "source": [
    "ptt = 0"
   ]
  },
  {
   "cell_type": "code",
   "execution_count": 58,
   "id": "040efa23",
   "metadata": {},
   "outputs": [
    {
     "data": {
      "text/plain": [
       "0"
      ]
     },
     "execution_count": 58,
     "metadata": {},
     "output_type": "execute_result"
    }
   ],
   "source": [
    "# __del__ работает вместе со сборщиком мусора, как только на объект не ссылается ни одна ссылка, \n",
    "# объект автоматически удаляется из пямяти"
   ]
  },
  {
   "cell_type": "markdown",
   "id": "236d6b4b",
   "metadata": {},
   "source": [
    "### Магический метод '__new__' . Паттерн Singleton"
   ]
  },
  {
   "cell_type": "code",
   "execution_count": null,
   "id": "f5243117",
   "metadata": {},
   "outputs": [],
   "source": [
    "# new - вызывается перед созданием объекта класса\n",
    "# init - вызываеься сразу ПОСЛЕ создания объекта класса\n",
    "\n",
    "# Иногда в програмировании нужно что-то сделатьперед созданием объекта"
   ]
  },
  {
   "cell_type": "code",
   "execution_count": 66,
   "id": "efad5fe6",
   "metadata": {},
   "outputs": [],
   "source": [
    "# Перезададим класс Point\n",
    "\n",
    "class Point:\n",
    "    \n",
    "    def __new__(cls, *args, **kwargs):\n",
    "        print('вызов __new__ для', str(cls)) # cls он ссылается на класс Point\n",
    "        \n",
    "    def __init__(self, x = 0, y = 0):\n",
    "        print('вызов __init__ для', str(self)) # self ссылается на создаваемый экземпляр класса\n",
    "        self.x = x\n",
    "        self.y = y\n",
    "        "
   ]
  },
  {
   "cell_type": "code",
   "execution_count": 70,
   "id": "96cfa21e",
   "metadata": {},
   "outputs": [
    {
     "name": "stdout",
     "output_type": "stream",
     "text": [
      "вызов __new__ для <class '__main__.Point'>\n",
      "None\n"
     ]
    }
   ],
   "source": [
    "pt = Point(1,3)\n",
    "\n",
    "# Здесь мы видим, что сработал только new\n",
    "# Это значит , что экземпляр класса создан не был\n",
    "# мы можем в этом убедится, если рарытамся распечатать pt\n",
    "\n",
    "print(pt)\n",
    "\n",
    "# Почему так произошло?\n",
    "# Дело в том что в питоне, метод __new__ должен возвращать адрес нового созданного объекта.\n",
    "# А в нашей программе он ничего не возвращает\n"
   ]
  },
  {
   "cell_type": "code",
   "execution_count": 71,
   "id": "ebb79e97",
   "metadata": {},
   "outputs": [],
   "source": [
    "# Давайте вернём адрес нового объекта\n",
    "# Можем вызвать метод new из базового класса\n",
    "\n",
    "class Point:\n",
    "    \n",
    "    def __new__(cls, *args, **kwargs): # общий синтексис\n",
    "        print('вызов __new__ для', str(cls)) # cls он ссылается на класс Point\n",
    "        return super().__new__(cls)  # super -это ссылка на базовый класс. и из базового класса мы вызываем метод __new__\n",
    "                                     # И передаём ссылку cls на класс\n",
    "        \n",
    "    def __init__(self, x = 0, y = 0):\n",
    "        print('вызов __init__ для', str(self)) # self ссылается на создаваемый экземпляр класса\n",
    "        self.x = x\n",
    "        self.y = y\n",
    "\n",
    "# Начиная с Питон 3 все классы подефолту наследуются от общего класса object\n",
    "# И из этого базового класса мы как раз и вызываем метод __new__\n",
    "# И уже этот маг метод __new__ запускает процесс создания экземпляра класса и возвращает адрес нового объекта класса"
   ]
  },
  {
   "cell_type": "code",
   "execution_count": 72,
   "id": "b8f05b9e",
   "metadata": {},
   "outputs": [
    {
     "name": "stdout",
     "output_type": "stream",
     "text": [
      "вызов __new__ для <class '__main__.Point'>\n",
      "вызов __init__ для <__main__.Point object at 0x000002361261F3A0>\n"
     ]
    }
   ],
   "source": [
    "pt = Point(1,3)\n"
   ]
  },
  {
   "cell_type": "markdown",
   "id": "d2a1bd3f",
   "metadata": {},
   "source": [
    "### Паттерн Singleton"
   ]
  },
  {
   "cell_type": "code",
   "execution_count": 93,
   "id": "0b71e350",
   "metadata": {},
   "outputs": [],
   "source": [
    "# Реализуем учебный пример\n",
    "# у нас есть клас DataBase и далее полагаем, что в программе должен существовать только\n",
    "# один экземпляр этого класса\n",
    "# два эксемпляра класа существовать не должны\n",
    "# по идее, если мы создаём еще один экземпляр класса DataBase, то он должен сыылатся на первый экземпляр класса\n",
    "\n",
    "class DataBase:\n",
    "    __instance = None # Пропишем отрубут класса __instance и будет принемать начальное значение None\n",
    "                      #     это ссылка на экземпляр класа \n",
    "                      # Если нан, то экземпляра класа нет, если будет \n",
    "            \n",
    "    def __new__(cls, *args, **kwargs):\n",
    "        if cls.__instance is None:\n",
    "            cls.__instance = super().__new__(cls)\n",
    "        return cls.__instance\n",
    "    \n",
    "    def __del__(self):   # Если объект DataBase будет удалён сборщиком мусора\n",
    "        DataBase.__instance = None   # То instanse снова будет присвоено значение None\n",
    "    \n",
    "    def __init__(self, user, psw, port): # Инициализируем экземпляр класса \n",
    "        self.user = user\n",
    "        self.psw = psw\n",
    "        self.port = port\n",
    "        \n",
    "    def connect(self):\n",
    "        print(f'соединение с БД {self.user}, {self.psw}, {self.port}')\n",
    "        \n",
    "    def close(self):\n",
    "        print('закрытие соединение с БД')\n",
    "        \n",
    "    def read(self):\n",
    "        return 'данные из БД'\n",
    "        \n",
    "    def write(self):\n",
    "        print('запись в БД')\n",
    "        \n"
   ]
  },
  {
   "cell_type": "code",
   "execution_count": 94,
   "id": "00901399",
   "metadata": {},
   "outputs": [
    {
     "name": "stdout",
     "output_type": "stream",
     "text": [
      "2431251158688\n",
      "2431251158688\n"
     ]
    }
   ],
   "source": [
    "db =DataBase('root', '1234', 8888)\n",
    "\n",
    "# Попытаемся создать ещё один экземпляр класса\n",
    "\n",
    "db2 = DataBase('root2', '1234', 8889)\n",
    "\n",
    "# ниже выведем их id\n",
    "\n",
    "print(id(db))\n",
    "print(id(db2))\n",
    "\n",
    "# Видем, что их id равны. Что при попвтке создать второй объект\n",
    "# Он на самом деле не был создан\n",
    "# db2 ссылается на тот же самы объект"
   ]
  },
  {
   "cell_type": "code",
   "execution_count": 95,
   "id": "35fec8c7",
   "metadata": {},
   "outputs": [
    {
     "name": "stdout",
     "output_type": "stream",
     "text": [
      "соединение с БД root2, 1234, 8889\n",
      "соединение с БД root2, 1234, 8889\n"
     ]
    }
   ],
   "source": [
    "# НО у этой реализации есть недостаток\n",
    "# Если мы вызовем метод connect, то увидим, что записалиьс данные второго объекта\n",
    "# это не то что мы ожидали увидеть\n",
    "\n",
    "db.connect()\n",
    "db2.connect()\n",
    "\n",
    "# При создании нового объекта, срабатывает снова метод __init__ \n",
    "# ЧТобы этого не было нужно реалализовать метод __call_??"
   ]
  },
  {
   "cell_type": "code",
   "execution_count": null,
   "id": "cd99633b",
   "metadata": {},
   "outputs": [],
   "source": []
  },
  {
   "cell_type": "markdown",
   "id": "c460d050",
   "metadata": {},
   "source": [
    "## @classmethod"
   ]
  },
  {
   "cell_type": "code",
   "execution_count": 108,
   "id": "a30c3d64",
   "metadata": {},
   "outputs": [],
   "source": [
    "class Vector :\n",
    "    MIN_COORD = 0  # атрибуты класса\n",
    "    MAX_COORD =100\n",
    "    \n",
    "    @classmethod\n",
    "    def validate(cls, arg):\n",
    "        return cls.MIN_COORD <= arg  <= cls.MAX_COORD\n",
    "    \n",
    "    \n",
    "    def __init__(self, x, y):\n",
    "        self.x = x\n",
    "        self.y = y\n",
    "        \n",
    "    def get_coord(self):\n",
    "        return self.x, self.y"
   ]
  },
  {
   "cell_type": "code",
   "execution_count": 109,
   "id": "09704a99",
   "metadata": {},
   "outputs": [
    {
     "name": "stdout",
     "output_type": "stream",
     "text": [
      "(1, 2)\n"
     ]
    }
   ],
   "source": [
    "# Так мы отпределяем обычные методы внутри класса\n",
    "\n",
    "vec = Vector(1, 2)\n",
    "res = vec.get_coord()\n",
    "\n",
    "print(res)"
   ]
  },
  {
   "cell_type": "code",
   "execution_count": 110,
   "id": "3dbb6469",
   "metadata": {},
   "outputs": [
    {
     "name": "stdout",
     "output_type": "stream",
     "text": [
      "(1, 2)\n"
     ]
    }
   ],
   "source": [
    "# Или так\n",
    "\n",
    "res1 = Vector.get_coord(vec) # одно и тоже\n",
    "\n",
    "print(res1)"
   ]
  },
  {
   "cell_type": "code",
   "execution_count": 111,
   "id": "45e6ae04",
   "metadata": {},
   "outputs": [
    {
     "name": "stdout",
     "output_type": "stream",
     "text": [
      "True\n"
     ]
    }
   ],
   "source": [
    "# Есть ещё классметоды @classmethod b статические методы @staticmethad \n",
    "# (про это в следующей части)\n",
    "\n",
    "# @classmethod работает ИСЛЮЧИТЕЛЬНО С АТРИБУТАМИ КЛАССА (в нашем случа с MIN_COORD и MAX_COODRD)\n",
    "# он не может работать с локальными отрибутами объектов класса\n",
    "\n",
    "# методкласса мы можем напрямую вызывать через класс\n",
    "\n",
    "print(Vector.validate(5))\n"
   ]
  },
  {
   "cell_type": "code",
   "execution_count": 123,
   "id": "63ed5076",
   "metadata": {},
   "outputs": [],
   "source": [
    "# Воспользуемся методкласа validate  в __init__ в качестве проверки\n",
    "\n",
    "class Vector :\n",
    "    MIN_COORD = 0  # атрибуты класса\n",
    "    MAX_COORD =100\n",
    "    \n",
    "    @classmethod\n",
    "    def validate(cls, arg):\n",
    "        return cls.MIN_COORD <= arg  <= cls.MAX_COORD\n",
    "    \n",
    "    \n",
    "    def __init__(self, x, y):\n",
    "        self.x = 0\n",
    "        self.y = 0\n",
    "        if self.validate(x)  and self.validate(y):\n",
    "            self.x = x\n",
    "            self.y = y\n",
    "        \n",
    "    def get_coord(self):\n",
    "        return self.x, self.y"
   ]
  },
  {
   "cell_type": "code",
   "execution_count": 124,
   "id": "275e293c",
   "metadata": {},
   "outputs": [
    {
     "name": "stdout",
     "output_type": "stream",
     "text": [
      "(0, 0)\n"
     ]
    }
   ],
   "source": [
    "vec2 = Vector(2, 200)\n",
    "\n",
    "print(vec2.get_coord())"
   ]
  },
  {
   "cell_type": "markdown",
   "id": "0ac6b942",
   "metadata": {},
   "source": [
    "## @staticmethod"
   ]
  },
  {
   "cell_type": "code",
   "execution_count": 128,
   "id": "61cb6234",
   "metadata": {},
   "outputs": [],
   "source": [
    "# с помощью него мы можем определить методы, ктр не имеют доступа ни к атрибутам класса\n",
    "# ни к атрибутам его экземпляра\n",
    "\n",
    "# Т.е. создаётся некая независима сомостоятельная функция внутри класса.\n",
    "# Обычно это делается для удобства, потому что такая функция функционально связана с тематекой самого класса\n",
    "\n",
    "\n",
    "class Vector :\n",
    "    MIN_COORD = 0  # атрибуты класса\n",
    "    MAX_COORD =100\n",
    "    \n",
    "    @classmethod\n",
    "    def validate(cls, arg):\n",
    "        return cls.MIN_COORD <= arg  <= cls.MAX_COORD\n",
    "    \n",
    "    \n",
    "    def __init__(self, x, y):\n",
    "        self.x = 0\n",
    "        self.y = 0\n",
    "        if self.validate(x)  and self.validate(y):\n",
    "            self.x = x\n",
    "            self.y = y      \n",
    "        print(self.norm2(self.x, self.y)) # статикметоды также можно вызывать внутри   обычных методов\n",
    "    \n",
    "        \n",
    "    def get_coord(self):\n",
    "        return self.x, self.y\n",
    "    \n",
    "    @staticmethod\n",
    "    def norm2(x, y):\n",
    "        return x*x + y*y\n"
   ]
  },
  {
   "cell_type": "code",
   "execution_count": 129,
   "id": "016c0f7a",
   "metadata": {},
   "outputs": [
    {
     "name": "stdout",
     "output_type": "stream",
     "text": [
      "45\n"
     ]
    }
   ],
   "source": [
    "print(Vector.norm2(3, 6))"
   ]
  },
  {
   "cell_type": "code",
   "execution_count": 130,
   "id": "17dc2251",
   "metadata": {},
   "outputs": [
    {
     "name": "stdout",
     "output_type": "stream",
     "text": [
      "200\n"
     ]
    }
   ],
   "source": [
    "vec3 = Vector(10, 10)"
   ]
  },
  {
   "cell_type": "code",
   "execution_count": null,
   "id": "3a77cf00",
   "metadata": {},
   "outputs": [],
   "source": []
  },
  {
   "cell_type": "code",
   "execution_count": null,
   "id": "5ccd97c8",
   "metadata": {},
   "outputs": [],
   "source": []
  },
  {
   "cell_type": "code",
   "execution_count": null,
   "id": "cee8d7ee",
   "metadata": {},
   "outputs": [],
   "source": []
  },
  {
   "cell_type": "markdown",
   "id": "c722bd6d",
   "metadata": {},
   "source": [
    "## Инкапсуляция"
   ]
  },
  {
   "cell_type": "code",
   "execution_count": 1,
   "id": "02ce34fe",
   "metadata": {},
   "outputs": [],
   "source": [
    "# Ограничение доступа к атрибутам и методам класса из-вне\n",
    "# "
   ]
  },
  {
   "cell_type": "code",
   "execution_count": 4,
   "id": "04cb1559",
   "metadata": {},
   "outputs": [],
   "source": [
    "# Допустим у нас есть простой класс Point\n",
    "\n",
    "\n",
    "class Point:\n",
    "    \n",
    "    def __init__(self, x=0, y=0):\n",
    "        self.x = x\n",
    "        self.y = y\n",
    "        "
   ]
  },
  {
   "cell_type": "code",
   "execution_count": 7,
   "id": "6c9e110b",
   "metadata": {},
   "outputs": [
    {
     "name": "stdout",
     "output_type": "stream",
     "text": [
      "1 2\n"
     ]
    }
   ],
   "source": [
    "# Создадим экземпляр класса Point\n",
    "\n",
    "pt =Point(1, 2)\n",
    "\n",
    "# Все атрибуты этого объекта класса доступны через ссылку\n",
    "\n",
    "print(pt.x, pt.y)"
   ]
  },
  {
   "cell_type": "code",
   "execution_count": 9,
   "id": "0a203618",
   "metadata": {},
   "outputs": [
    {
     "name": "stdout",
     "output_type": "stream",
     "text": [
      "{'x': 10, 'y': 20}\n"
     ]
    }
   ],
   "source": [
    "# Также мы можем менять эти свойства через ссылку\n",
    "\n",
    "pt.x =10\n",
    "pt.y = 20\n",
    "\n",
    "print(pt.__dict__)"
   ]
  },
  {
   "cell_type": "code",
   "execution_count": null,
   "id": "31fc43b6",
   "metadata": {},
   "outputs": [],
   "source": [
    "# Если мы не хотим, чтобы пользователь напрямую имел доступ \n",
    "# к каким-либо локальным свойствам, то слудует их помечать закрытыми"
   ]
  },
  {
   "cell_type": "code",
   "execution_count": null,
   "id": "22cd7df1",
   "metadata": {},
   "outputs": [],
   "source": [
    "#  attribute (без подчёркиваний) - публичное свойство (public)\n",
    "\n",
    "# _attribute (c одним подчёркиванием) - режим доступа protected\n",
    "# (служит для обращения внутри класса и во всех его дочерних классах)\n",
    "\n",
    "# __attribute (с двумя подчёркиваниями) - режим доступа privatе \n",
    "# (служит для обращения только внутри класса)\n"
   ]
  },
  {
   "cell_type": "code",
   "execution_count": 10,
   "id": "327bffa5",
   "metadata": {},
   "outputs": [],
   "source": [
    "#  Изменим режим доступа к атрибутам с (public) на protected\n",
    "\n",
    "class Point:\n",
    "    \n",
    "    def __init__(self, x=0, y=0):\n",
    "        self._x = x\n",
    "        self._y = y        "
   ]
  },
  {
   "cell_type": "code",
   "execution_count": 12,
   "id": "995f562e",
   "metadata": {},
   "outputs": [
    {
     "name": "stdout",
     "output_type": "stream",
     "text": [
      "1 2\n"
     ]
    }
   ],
   "source": [
    "# Мы всё также можем обращатся из вне ко свойствам экземпляра класса \n",
    "\n",
    "pt = Point(1, 2)\n",
    "print(pt._x, pt._y)"
   ]
  },
  {
   "cell_type": "code",
   "execution_count": null,
   "id": "5ddec704",
   "metadata": {},
   "outputs": [],
   "source": [
    "# \"_\" только сигнализирует программисту, что это свойство является защищённым, но никак\n",
    "# ниограничивает доступ к нему из вне\n",
    "# К таким атрибутам лучше не обращатся из-вне"
   ]
  },
  {
   "cell_type": "code",
   "execution_count": 22,
   "id": "3394eb9c",
   "metadata": {},
   "outputs": [],
   "source": [
    "#  Изменим режим доступа к атрибутам на privatе\n",
    "\n",
    "class Point:\n",
    "    \n",
    "    def __init__(self, x=0, y=0):\n",
    "        self.__x = x\n",
    "        self.__y = y  \n",
    "        \n",
    "    def set_coords(self, x, y):\n",
    "        self.__x = x\n",
    "        self.__y = y  \n",
    "        \n",
    "    def get_coords(self):\n",
    "        return(self.__x, self.__y)\n",
    "        \n",
    "pt = Point(1, 2)"
   ]
  },
  {
   "cell_type": "code",
   "execution_count": 20,
   "id": "0e1f39f7",
   "metadata": {},
   "outputs": [
    {
     "ename": "AttributeError",
     "evalue": "'Point' object has no attribute '__x'",
     "output_type": "error",
     "traceback": [
      "\u001b[1;31m---------------------------------------------------------------------------\u001b[0m",
      "\u001b[1;31mAttributeError\u001b[0m                            Traceback (most recent call last)",
      "\u001b[1;32m~\\AppData\\Local\\Temp/ipykernel_1504/4006530729.py\u001b[0m in \u001b[0;36m<module>\u001b[1;34m\u001b[0m\n\u001b[0;32m      1\u001b[0m \u001b[1;31m#  Нет доступа из вне\u001b[0m\u001b[1;33m\u001b[0m\u001b[1;33m\u001b[0m\u001b[0m\n\u001b[0;32m      2\u001b[0m \u001b[1;33m\u001b[0m\u001b[0m\n\u001b[1;32m----> 3\u001b[1;33m \u001b[0mprint\u001b[0m\u001b[1;33m(\u001b[0m\u001b[0mpt\u001b[0m\u001b[1;33m.\u001b[0m\u001b[0m__x\u001b[0m\u001b[1;33m,\u001b[0m \u001b[0mpt\u001b[0m\u001b[1;33m.\u001b[0m\u001b[0m__y\u001b[0m\u001b[1;33m)\u001b[0m\u001b[1;33m\u001b[0m\u001b[1;33m\u001b[0m\u001b[0m\n\u001b[0m",
      "\u001b[1;31mAttributeError\u001b[0m: 'Point' object has no attribute '__x'"
     ]
    }
   ],
   "source": [
    "#  Нет доступа из вне\n",
    "\n",
    "print(pt.__x, pt.__y)"
   ]
  },
  {
   "cell_type": "code",
   "execution_count": 24,
   "id": "ba30625b",
   "metadata": {},
   "outputs": [
    {
     "data": {
      "text/plain": [
       "(13, 16)"
      ]
     },
     "execution_count": 24,
     "metadata": {},
     "output_type": "execute_result"
    }
   ],
   "source": [
    "# внутри класса мы можем обращатся к таким свойства\n",
    "\n",
    "pt.set_coords(13, 16)\n",
    "# Нет ошибки, значит всё работает\n",
    "\n",
    "pt.get_coords()"
   ]
  },
  {
   "cell_type": "code",
   "execution_count": 70,
   "id": "f86a685c",
   "metadata": {},
   "outputs": [],
   "source": [
    "# set и get - методы --(сетторы и гетторы) -интерфейсные методы\n",
    "# Они нужны для того, чтобы сохранять целостность класса \n",
    "# и Поддерживать суть принципа инкапсуляции\n",
    "# Программист имеет достап к приватным свойствам, только через публичные\n",
    "\n",
    "# Также можно производить проверку, например на соответствие типам данных\n",
    "\n",
    "class Point1:\n",
    "    \n",
    "    def __init__(self, x=0, y=0):\n",
    "        self.__x = x\n",
    "        self.__y = y  \n",
    "        \n",
    "    def set_coords(self, x, y):\n",
    "        if isinstance(x, (int, float)) and isinstance(y, (int, float)): # сеттер проверяет на соответствие типу данных, перед тем как изменить свойства\n",
    "            self.__x = x\n",
    "            self.__y = y\n",
    "        else:\n",
    "            raise ValueError(\"Не корректный тип данных\")\n",
    "        \n",
    "    def get_coords(self):\n",
    "        return(self.__x, self.__y)\n",
    "        \n"
   ]
  },
  {
   "cell_type": "code",
   "execution_count": 73,
   "id": "66b13e9a",
   "metadata": {},
   "outputs": [
    {
     "ename": "ValueError",
     "evalue": "Не корректный тип данных",
     "output_type": "error",
     "traceback": [
      "\u001b[1;31m---------------------------------------------------------------------------\u001b[0m",
      "\u001b[1;31mValueError\u001b[0m                                Traceback (most recent call last)",
      "\u001b[1;32m~\\AppData\\Local\\Temp/ipykernel_1504/228358214.py\u001b[0m in \u001b[0;36m<module>\u001b[1;34m\u001b[0m\n\u001b[0;32m      1\u001b[0m \u001b[0mpt1\u001b[0m \u001b[1;33m=\u001b[0m \u001b[0mPoint1\u001b[0m\u001b[1;33m(\u001b[0m\u001b[1;36m15\u001b[0m\u001b[1;33m,\u001b[0m \u001b[1;36m27\u001b[0m\u001b[1;33m)\u001b[0m\u001b[1;33m\u001b[0m\u001b[1;33m\u001b[0m\u001b[0m\n\u001b[1;32m----> 2\u001b[1;33m \u001b[0mpt1\u001b[0m\u001b[1;33m.\u001b[0m\u001b[0mset_coords\u001b[0m\u001b[1;33m(\u001b[0m\u001b[1;36m2\u001b[0m\u001b[1;33m,\u001b[0m \u001b[1;34m\"0.4\"\u001b[0m\u001b[1;33m)\u001b[0m\u001b[1;33m\u001b[0m\u001b[1;33m\u001b[0m\u001b[0m\n\u001b[0m",
      "\u001b[1;32m~\\AppData\\Local\\Temp/ipykernel_1504/1704285220.py\u001b[0m in \u001b[0;36mset_coords\u001b[1;34m(self, x, y)\u001b[0m\n\u001b[0;32m     17\u001b[0m             \u001b[0mself\u001b[0m\u001b[1;33m.\u001b[0m\u001b[0m__y\u001b[0m \u001b[1;33m=\u001b[0m \u001b[0my\u001b[0m\u001b[1;33m\u001b[0m\u001b[1;33m\u001b[0m\u001b[0m\n\u001b[0;32m     18\u001b[0m         \u001b[1;32melse\u001b[0m\u001b[1;33m:\u001b[0m\u001b[1;33m\u001b[0m\u001b[1;33m\u001b[0m\u001b[0m\n\u001b[1;32m---> 19\u001b[1;33m             \u001b[1;32mraise\u001b[0m \u001b[0mValueError\u001b[0m\u001b[1;33m(\u001b[0m\u001b[1;34m\"Не корректный тип данных\"\u001b[0m\u001b[1;33m)\u001b[0m\u001b[1;33m\u001b[0m\u001b[1;33m\u001b[0m\u001b[0m\n\u001b[0m\u001b[0;32m     20\u001b[0m \u001b[1;33m\u001b[0m\u001b[0m\n\u001b[0;32m     21\u001b[0m     \u001b[1;32mdef\u001b[0m \u001b[0mget_coords\u001b[0m\u001b[1;33m(\u001b[0m\u001b[0mself\u001b[0m\u001b[1;33m)\u001b[0m\u001b[1;33m:\u001b[0m\u001b[1;33m\u001b[0m\u001b[1;33m\u001b[0m\u001b[0m\n",
      "\u001b[1;31mValueError\u001b[0m: Не корректный тип данных"
     ]
    }
   ],
   "source": [
    "pt1 = Point1(15, 27)\n",
    "pt1.set_coords(2, \"0.4\")"
   ]
  },
  {
   "cell_type": "code",
   "execution_count": 79,
   "id": "48b74d98",
   "metadata": {},
   "outputs": [],
   "source": [
    "class Point1:\n",
    "    \n",
    "    def __init__(self, x=0, y=0):\n",
    "        self.__x = 0\n",
    "        self.__y = 0\n",
    "        if self.__check_value(x) and self.__check_value(y): # также вставили проверку типов данных в конструктор\n",
    "            self.__x = x\n",
    "            self.__y = y  \n",
    "        \n",
    "# Добавим приватный метод для проверки корректности координат\n",
    "    @classmethod\n",
    "    def __check_value(cls, x):\n",
    "        return isinstance(x, (int, float))\n",
    "        \n",
    "    def set_coords(self, x, y):\n",
    "        if self.__check_value(x) and self.__check_value(y): # сеттер проверяет на соответствие типу данных, перед тем как изменить свойства\n",
    "            self.__x = x\n",
    "            self.__y = y\n",
    "        else:\n",
    "            raise ValueError(\"Не корректный тип данных\")\n",
    "        \n",
    "    def get_coords(self):\n",
    "        return(self.__x, self.__y)\n",
    "        "
   ]
  },
  {
   "cell_type": "code",
   "execution_count": 80,
   "id": "636c9f97",
   "metadata": {},
   "outputs": [],
   "source": [
    "pt2 = Point1(\"15\", 27)"
   ]
  },
  {
   "cell_type": "code",
   "execution_count": 81,
   "id": "b21af764",
   "metadata": {},
   "outputs": [
    {
     "data": {
      "text/plain": [
       "(0, 0)"
      ]
     },
     "execution_count": 81,
     "metadata": {},
     "output_type": "execute_result"
    }
   ],
   "source": [
    "pt2.get_coords()"
   ]
  },
  {
   "cell_type": "code",
   "execution_count": 82,
   "id": "a4cc657f",
   "metadata": {},
   "outputs": [
    {
     "name": "stdout",
     "output_type": "stream",
     "text": [
      "['_Point1__x', '_Point1__y', '__class__', '__delattr__', '__dict__', '__dir__', '__doc__', '__eq__', '__format__', '__ge__', '__getattribute__', '__gt__', '__hash__', '__init__', '__init_subclass__', '__le__', '__lt__', '__module__', '__ne__', '__new__', '__reduce__', '__reduce_ex__', '__repr__', '__setattr__', '__sizeof__', '__str__', '__subclasshook__', '__weakref__', 'get_coords', 'set_coords']\n"
     ]
    }
   ],
   "source": [
    "print(dir(pt1))"
   ]
  },
  {
   "cell_type": "code",
   "execution_count": 83,
   "id": "791d1ba1",
   "metadata": {},
   "outputs": [
    {
     "name": "stdout",
     "output_type": "stream",
     "text": [
      "0\n"
     ]
    }
   ],
   "source": [
    "# К приватным способаи можно обратиться через '_Point1__x', НО ЭТО КРАЙНЯЯ МЕРА!!!\n",
    "\n",
    "print(pt2._Point1__x)"
   ]
  },
  {
   "cell_type": "code",
   "execution_count": 85,
   "id": "973ed07a",
   "metadata": {},
   "outputs": [],
   "source": [
    "#  Чтобы защитить приватные и защищённые методы можно работать с модулем accessify"
   ]
  },
  {
   "cell_type": "code",
   "execution_count": 86,
   "id": "9f1c4c53",
   "metadata": {},
   "outputs": [],
   "source": [
    "from accessify import private, protected\n",
    "\n",
    "class Point1:\n",
    "    \n",
    "    def __init__(self, x=0, y=0):\n",
    "        self.__x = 0\n",
    "        self.__y = 0\n",
    "        if self.check_value(x) and self.check_value(y): # также вставили проверку типов данных в конструктор\n",
    "            self.__x = x\n",
    "            self.__y = y  \n",
    "        \n",
    "# Добавим приватный метод для проверки корректности координат\n",
    "    @private\n",
    "    @classmethod\n",
    "    def check_value(cls, x):\n",
    "        return isinstance(x, (int, float))\n",
    "        \n",
    "    def set_coords(self, x, y):\n",
    "        if self.check_value(x) and self.check_value(y): # сеттер проверяет на соответствие типу данных, перед тем как изменить свойства\n",
    "            self.__x = x\n",
    "            self.__y = y\n",
    "        else:\n",
    "            raise ValueError(\"Не корректный тип данных\")\n",
    "        \n",
    "    def get_coords(self):\n",
    "        return(self.__x, self.__y)"
   ]
  },
  {
   "cell_type": "code",
   "execution_count": 88,
   "id": "eceaca27",
   "metadata": {},
   "outputs": [
    {
     "ename": "InaccessibleDueToItsProtectionLevelException",
     "evalue": "int.check_value() is inaccessible due to its protection level",
     "output_type": "error",
     "traceback": [
      "\u001b[1;31m---------------------------------------------------------------------------\u001b[0m",
      "\u001b[1;31mInaccessibleDueToItsProtectionLevelException\u001b[0mTraceback (most recent call last)",
      "\u001b[1;32m~\\AppData\\Local\\Temp/ipykernel_1504/1621141715.py\u001b[0m in \u001b[0;36m<module>\u001b[1;34m\u001b[0m\n\u001b[1;32m----> 1\u001b[1;33m \u001b[0mPoint1\u001b[0m\u001b[1;33m.\u001b[0m\u001b[0mcheck_value\u001b[0m\u001b[1;33m(\u001b[0m\u001b[1;36m4\u001b[0m\u001b[1;33m)\u001b[0m\u001b[1;33m\u001b[0m\u001b[1;33m\u001b[0m\u001b[0m\n\u001b[0m",
      "\u001b[1;32m~\\anaconda3\\lib\\site-packages\\accessify\\access.py\u001b[0m in \u001b[0;36mprivate_wrapper\u001b[1;34m(*args, **kwargs)\u001b[0m\n\u001b[0;32m     73\u001b[0m \u001b[1;33m\u001b[0m\u001b[0m\n\u001b[0;32m     74\u001b[0m             \u001b[1;32mif\u001b[0m \u001b[0minstance_class\u001b[0m \u001b[1;32mis\u001b[0m \u001b[1;32mnot\u001b[0m \u001b[0mmethod_caller_class\u001b[0m\u001b[1;33m:\u001b[0m\u001b[1;33m\u001b[0m\u001b[1;33m\u001b[0m\u001b[0m\n\u001b[1;32m---> 75\u001b[1;33m                 raise InaccessibleDueToItsProtectionLevelException(\n\u001b[0m\u001b[0;32m     76\u001b[0m                     INACCESSIBLE_DUE_TO_ITS_PROTECTION_LEVEL_EXCEPTION_MESSAGE.format(\n\u001b[0;32m     77\u001b[0m                         \u001b[0mclass_name\u001b[0m\u001b[1;33m=\u001b[0m\u001b[0minstance_class\u001b[0m\u001b[1;33m.\u001b[0m\u001b[0m__name__\u001b[0m\u001b[1;33m,\u001b[0m \u001b[0mclass_method_name\u001b[0m\u001b[1;33m=\u001b[0m\u001b[0mmethod\u001b[0m\u001b[1;33m.\u001b[0m\u001b[0m__name__\u001b[0m\u001b[1;33m,\u001b[0m\u001b[1;33m\u001b[0m\u001b[1;33m\u001b[0m\u001b[0m\n",
      "\u001b[1;31mInaccessibleDueToItsProtectionLevelException\u001b[0m: int.check_value() is inaccessible due to its protection level"
     ]
    }
   ],
   "source": [
    "Point1.check_value(4)"
   ]
  },
  {
   "cell_type": "code",
   "execution_count": 89,
   "id": "7906d75e",
   "metadata": {},
   "outputs": [],
   "source": [
    "# Модуль accessify используется в редких случаях, когда нужно надёжно защитить приватные\n",
    "# и защищённые методы\n",
    "# На практике __ бывает достаточно"
   ]
  },
  {
   "cell_type": "markdown",
   "id": "3946c1cb",
   "metadata": {},
   "source": [
    "## Наследование\n",
    "Наследование (Inheritance) - Передача аттрибутов и методов родительского класса дочерним классам."
   ]
  },
  {
   "cell_type": "code",
   "execution_count": 134,
   "id": "4b54725f",
   "metadata": {},
   "outputs": [],
   "source": [
    "import numpy as np\n",
    "import math\n"
   ]
  },
  {
   "cell_type": "code",
   "execution_count": 135,
   "id": "16682a65",
   "metadata": {},
   "outputs": [],
   "source": [
    "n = math.factorial(29)"
   ]
  },
  {
   "cell_type": "code",
   "execution_count": 137,
   "id": "203d29b5",
   "metadata": {},
   "outputs": [
    {
     "ename": "MemoryError",
     "evalue": "",
     "output_type": "error",
     "traceback": [
      "\u001b[1;31m---------------------------------------------------------------------------\u001b[0m",
      "\u001b[1;31mMemoryError\u001b[0m                               Traceback (most recent call last)",
      "\u001b[1;32m~\\AppData\\Local\\Temp/ipykernel_14708/3975648017.py\u001b[0m in \u001b[0;36m<module>\u001b[1;34m\u001b[0m\n\u001b[0;32m      3\u001b[0m \u001b[1;33m\u001b[0m\u001b[0m\n\u001b[0;32m      4\u001b[0m \u001b[1;32mfor\u001b[0m \u001b[0mi\u001b[0m \u001b[1;32min\u001b[0m \u001b[0mrange\u001b[0m\u001b[1;33m(\u001b[0m\u001b[0mp\u001b[0m\u001b[1;33m-\u001b[0m\u001b[1;36m1\u001b[0m\u001b[1;33m)\u001b[0m\u001b[1;33m:\u001b[0m\u001b[1;33m\u001b[0m\u001b[1;33m\u001b[0m\u001b[0m\n\u001b[1;32m----> 5\u001b[1;33m     \u001b[0mx\u001b[0m \u001b[1;33m=\u001b[0m\u001b[1;33m+\u001b[0m \u001b[0mi\u001b[0m\u001b[1;33m**\u001b[0m\u001b[0mn\u001b[0m\u001b[1;33m\u001b[0m\u001b[1;33m\u001b[0m\u001b[0m\n\u001b[0m",
      "\u001b[1;31mMemoryError\u001b[0m: "
     ]
    }
   ],
   "source": [
    "p =18409201\n",
    "x= 0\n",
    "\n",
    "for i in range(p-1):\n",
    "    x =+ i**n"
   ]
  },
  {
   "cell_type": "markdown",
   "id": "16c05dce",
   "metadata": {},
   "source": [
    "## Магический метод \"call\""
   ]
  },
  {
   "cell_type": "code",
   "execution_count": 1,
   "id": "6044e379",
   "metadata": {},
   "outputs": [],
   "source": [
    "class Counter:\n",
    "    def __init__(self):\n",
    "        self.__counter = 0\n",
    "        \n",
    "# Когда мы прописываем круглые скобки после вызова класса, то активизируется метод __call__\n",
    "# И ему могут быть переданы, кикие-либо параметры\n",
    "\n",
    "c = Counter()\n",
    "\n",
    "# Сначала вывывается метод __new__\n",
    "# Затем метод __init__\n",
    "\n",
    "# __call__(self, *args, **kwargs):\n",
    "#     obj = self.new__(self, *args, **kwargs)\n",
    "#     self.__init__(obj, *args, **kwargs))\n",
    "#     return obj\n",
    "\n",
    "# Класс можем вызывать подобно функция"
   ]
  },
  {
   "cell_type": "code",
   "execution_count": null,
   "id": "cd7bcd70",
   "metadata": {},
   "outputs": [],
   "source": [
    "# функтор "
   ]
  }
 ],
 "metadata": {
  "kernelspec": {
   "display_name": "Python 3 (ipykernel)",
   "language": "python",
   "name": "python3"
  },
  "language_info": {
   "codemirror_mode": {
    "name": "ipython",
    "version": 3
   },
   "file_extension": ".py",
   "mimetype": "text/x-python",
   "name": "python",
   "nbconvert_exporter": "python",
   "pygments_lexer": "ipython3",
   "version": "3.9.7"
  },
  "latex_envs": {
   "LaTeX_envs_menu_present": true,
   "autoclose": false,
   "autocomplete": true,
   "bibliofile": "biblio.bib",
   "cite_by": "apalike",
   "current_citInitial": 1,
   "eqLabelWithNumbers": true,
   "eqNumInitial": 1,
   "hotkeys": {
    "equation": "Ctrl-E",
    "itemize": "Ctrl-I"
   },
   "labels_anchors": false,
   "latex_user_defs": false,
   "report_style_numbering": false,
   "user_envs_cfg": false
  },
  "toc": {
   "base_numbering": 1,
   "nav_menu": {},
   "number_sections": true,
   "sideBar": true,
   "skip_h1_title": false,
   "title_cell": "Table of Contents",
   "title_sidebar": "Contents",
   "toc_cell": false,
   "toc_position": {},
   "toc_section_display": true,
   "toc_window_display": true
  }
 },
 "nbformat": 4,
 "nbformat_minor": 5
}
